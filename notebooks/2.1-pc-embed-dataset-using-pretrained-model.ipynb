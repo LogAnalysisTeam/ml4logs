{
 "cells": [
  {
   "cell_type": "markdown",
   "id": "copyrighted-specific",
   "metadata": {},
   "source": [
    "# Log line embedding using a BERT-based encoder\n",
    "\n",
    "This notebook showcases how to use a pretrained DistilBert based model to embed log lines from text into a vector space, using Huggingface Transformers and Datasets libraries.\n",
    "\n",
    "Note: This notebook assumes [Cookiecutter datascience](https://drivendata.github.io/cookiecutter-data-science/) directory structure of the project, and expects to be in /notebooks/ folder"
   ]
  },
  {
   "cell_type": "code",
   "execution_count": 1,
   "id": "distinguished-yield",
   "metadata": {},
   "outputs": [],
   "source": [
    "from datasets import load_dataset\n",
    "import numpy as np\n",
    "from dataclasses import dataclass\n",
    "from typing import List, Union, Dict, Optional\n",
    "import torch\n",
    "from transformers import DistilBertTokenizerFast, DistilBertPreTrainedModel, DistilBertModel\n",
    "from transformers.file_utils import ModelOutput\n",
    "from pathlib import Path\n",
    "import re"
   ]
  },
  {
   "cell_type": "markdown",
   "id": "taken-vanilla",
   "metadata": {},
   "source": [
    "Setup general used objects and constants."
   ]
  },
  {
   "cell_type": "code",
   "execution_count": 2,
   "id": "widespread-conflict",
   "metadata": {},
   "outputs": [],
   "source": [
    "project_base_dir = Path.cwd().parent\n",
    "data_dir = project_base_dir / 'data'\n",
    "base_pretrained_model_name = \"distilbert-base-cased\""
   ]
  },
  {
   "cell_type": "markdown",
   "id": "fatal-allocation",
   "metadata": {},
   "source": [
    "## Dataset preparation\n",
    "First we load HDFS1 dataset and select first 1000 lines from it as a demonstrative subset"
   ]
  },
  {
   "cell_type": "code",
   "execution_count": 3,
   "id": "understanding-knife",
   "metadata": {},
   "outputs": [
    {
     "name": "stderr",
     "output_type": "stream",
     "text": [
      "Using custom data configuration default-b1cdfca81a0e7c30\n",
      "Reusing dataset text (/home/cernypro/.cache/huggingface/datasets/text/default-b1cdfca81a0e7c30/0.0.0/44d63bd03e7e554f16131765a251f2d8333a5fe8a73f6ea3de012dbc49443691)\n"
     ]
    }
   ],
   "source": [
    "dataset_path = Path('/home/cernypro/dev/source/ml4logs/data/interim/HDFS1/train-data-HDFS1-cv1-1.log')\n",
    "dataset_name = dataset_path.stem\n",
    "dataset = load_dataset('text', data_files=str(dataset_path), split='train')"
   ]
  },
  {
   "cell_type": "markdown",
   "id": "thermal-mason",
   "metadata": {},
   "source": [
    "Now we perform a rudimentary log-line preprocessing, removing the timestamp from each line (note, the model used in this notebook was pretrained with such preprocessing done)"
   ]
  },
  {
   "cell_type": "code",
   "execution_count": 4,
   "id": "exposed-congo",
   "metadata": {},
   "outputs": [
    {
     "name": "stderr",
     "output_type": "stream",
     "text": [
      "Loading cached processed dataset at /home/cernypro/.cache/huggingface/datasets/text/default-b1cdfca81a0e7c30/0.0.0/44d63bd03e7e554f16131765a251f2d8333a5fe8a73f6ea3de012dbc49443691/cache-c890ed1c4904eef4.arrow\n"
     ]
    }
   ],
   "source": [
    "HDFS1_TIMESTAMP_PATTERN = re.compile(r'^(\\d+) (\\d+) (\\d+) ')\n",
    "def remove_timestamp(example):\n",
    "    example['text'] = HDFS1_TIMESTAMP_PATTERN.sub('', example['text'])\n",
    "    return example\n",
    "\n",
    "cleaned_dataset = dataset.map(remove_timestamp)"
   ]
  },
  {
   "cell_type": "markdown",
   "id": "brief-collapse",
   "metadata": {},
   "source": [
    "## Transformer model preparation\n",
    "Here we'll prepare the Transformer model classes"
   ]
  },
  {
   "cell_type": "code",
   "execution_count": 5,
   "id": "driven-brass",
   "metadata": {},
   "outputs": [],
   "source": [
    "@dataclass\n",
    "class EmbeddingOutput(ModelOutput):\n",
    "    \"\"\"\n",
    "    ModelOutput class inspired per Huggingface Transformers library conventions, may be replaced by a suitable alternative class from the library if any exists.\n",
    "    \"\"\"\n",
    "    embedding: torch.FloatTensor = None\n",
    "        \n",
    "class DistilBertForClsEmbedding(DistilBertPreTrainedModel):\n",
    "    \"\"\"\n",
    "    DistilBertModel with a linear layer applied to [CLS] token.\n",
    "    Initialize using .from_pretrained(path_or_model_name) method\n",
    "    \"\"\"\n",
    "    def __init__(self, config):\n",
    "        super().__init__(config)\n",
    "        if config.task_specific_params is None:\n",
    "            config.task_specific_params = dict()\n",
    "\n",
    "        self.distilbert = DistilBertModel(config)\n",
    "        self.cls_projector = torch.nn.Linear(config.dim, config.task_specific_params.setdefault('cls_embedding_dimension', 512))\n",
    "\n",
    "        self.init_weights()\n",
    "    \n",
    "    def forward(self, input_ids, attention_mask):\n",
    "        bert_output = self.distilbert(input_ids=input_ids, attention_mask=attention_mask)\n",
    "        cls_token_embedding = bert_output.last_hidden_state[:, 0]\n",
    "        cls_encoding = self.cls_projector(cls_token_embedding)\n",
    "        return EmbeddingOutput(embedding=cls_encoding)"
   ]
  },
  {
   "cell_type": "markdown",
   "id": "duplicate-yeast",
   "metadata": {},
   "source": [
    "Now load the model from checkpoint and prepare it's tokenizer"
   ]
  },
  {
   "cell_type": "code",
   "execution_count": 6,
   "id": "brazilian-increase",
   "metadata": {},
   "outputs": [],
   "source": [
    "embedding_model_directory = project_base_dir / 'models' / 'LogEncoder_from_1T_Eps_1_M_basic_chunked_10_Seed-42_T-len_512_C-len_512_Tr-batch_64_Ev-b_64_O-dim_100'\n",
    "\n",
    "encoder_model = DistilBertForClsEmbedding.from_pretrained(embedding_model_directory).to('cuda')\n",
    "tokenizer = DistilBertTokenizerFast.from_pretrained(base_pretrained_model_name)  # The tokenizer must match the one used for the saved model, this model uses distilbert-base-cased tokenizer"
   ]
  },
  {
   "cell_type": "markdown",
   "id": "constant-tanzania",
   "metadata": {},
   "source": [
    "Here we'll prepare the encode function which we will map over our dataset, which will add an embedding column to our data containing the vector embeddings for each log-line.\n",
    "\n",
    "We will then apply this function in batches (for faster processing) as both our tokenizer and model can handle data in batched form. The batch size was chosen arbitrarily.\n",
    "\n",
    "Our encode function takes two additional arguments which have to be passed as a dict fn_kwargs to the map function. (We could also use closures, but I find this cleaner and easier to copy into a script from a notebook environment)\n",
    "\n",
    "See [Datasets .map documentation](https://huggingface.co/docs/datasets/processing.html#processing-data-with-map) for more info"
   ]
  },
  {
   "cell_type": "code",
   "execution_count": 10,
   "id": "stainless-spyware",
   "metadata": {},
   "outputs": [
    {
     "data": {
      "application/vnd.jupyter.widget-view+json": {
       "model_id": "59905c1ea4c24a91bf497b0efd589ee3",
       "version_major": 2,
       "version_minor": 0
      },
      "text/plain": [
       "HBox(children=(FloatProgress(value=0.0, max=35356.0), HTML(value='')))"
      ]
     },
     "metadata": {},
     "output_type": "display_data"
    },
    {
     "name": "stdout",
     "output_type": "stream",
     "text": [
      "\n"
     ]
    }
   ],
   "source": [
    "def encode(examples, tokenizer, encoder):\n",
    "    with torch.no_grad():\n",
    "        embedding = encoder(**tokenizer(examples['text'],\n",
    "                                        return_tensors='pt',\n",
    "                                        truncation=True,\n",
    "                                        padding=True).to('cuda')\n",
    "                            ).embedding.cpu().detach().numpy().tolist()\n",
    "    return {'embedding': embedding}\n",
    "\n",
    "encoder_model.eval()\n",
    "embedded_dataset = cleaned_dataset.map(encode,\n",
    "                                       fn_kwargs={'tokenizer': tokenizer,\n",
    "                                                  'encoder': encoder_model},\n",
    "                                       batched=True,\n",
    "                                       batch_size=256)"
   ]
  },
  {
   "cell_type": "markdown",
   "id": "occupational-sight",
   "metadata": {},
   "source": [
    "Here we can see first three embeddings alongside their original lines using the slicing notation, which Datasets supports. \n",
    "The returned object is a dict with column names as keys and lists of the column contents as values."
   ]
  },
  {
   "cell_type": "code",
   "execution_count": 11,
   "id": "demonstrated-listening",
   "metadata": {},
   "outputs": [],
   "source": [
    "save_path = data_dir / 'processed' / dataset_name / f\"embedding_from_{embedding_model_directory.stem}\"\n",
    "embedded_dataset.save_to_disk(save_path)"
   ]
  },
  {
   "cell_type": "code",
   "execution_count": 36,
   "id": "protected-appreciation",
   "metadata": {},
   "outputs": [
    {
     "data": {
      "text/plain": [
       "'a a'"
      ]
     },
     "execution_count": 36,
     "metadata": {},
     "output_type": "execute_result"
    }
   ],
   "source": [
    "tokenizer.decode(tokenizer(\"a a\", add_special_tokens=False, truncation=True, return_attention_mask=False)['input_ids'], clean_up_tokenization_spaces=True)"
   ]
  },
  {
   "cell_type": "code",
   "execution_count": 29,
   "id": "applied-independence",
   "metadata": {},
   "outputs": [
    {
     "data": {
      "text/plain": [
       "'INFO dfs.FSDataset: Deleting block blk_-7013325917247206057 file /mnt/hadoop/dfs/data/current/subdir10/blk_-7013325917247206057'"
      ]
     },
     "execution_count": 29,
     "metadata": {},
     "output_type": "execute_result"
    }
   ],
   "source": [
    "embedded_dataset[-1]['text']"
   ]
  }
 ],
 "metadata": {
  "kernelspec": {
   "display_name": "Python 3",
   "language": "python",
   "name": "python3"
  },
  "language_info": {
   "codemirror_mode": {
    "name": "ipython",
    "version": 3
   },
   "file_extension": ".py",
   "mimetype": "text/x-python",
   "name": "python",
   "nbconvert_exporter": "python",
   "pygments_lexer": "ipython3",
   "version": "3.7.4"
  }
 },
 "nbformat": 4,
 "nbformat_minor": 5
}
