{
 "cells": [
  {
   "cell_type": "code",
   "execution_count": 36,
   "id": "sitting-discrimination",
   "metadata": {},
   "outputs": [],
   "source": [
    "from pathlib import Path\n",
    "import re\n",
    "import operator"
   ]
  },
  {
   "cell_type": "code",
   "execution_count": 57,
   "id": "reverse-stone",
   "metadata": {},
   "outputs": [],
   "source": [
    "logfile_path = Path('/home/cernypro/dev/source/ml4logs/data/interim/HDFS1/train-data-HDFS1-cv1-1.log')"
   ]
  },
  {
   "cell_type": "code",
   "execution_count": 58,
   "id": "adverse-lancaster",
   "metadata": {},
   "outputs": [],
   "source": [
    "with logfile_path.open(mode='r') as f:\n",
    "    lines = [line for line in f]"
   ]
  },
  {
   "cell_type": "code",
   "execution_count": 59,
   "id": "rental-compilation",
   "metadata": {},
   "outputs": [
    {
     "data": {
      "text/plain": [
       "'081110 105717 32 INFO dfs.FSNamesystem: BLOCK* NameSystem.allocateBlock: /user/root/rand/_temporary/_task_200811101024_0001_m_000541_0/part-00541. blk_-3113070658935403731\\n'"
      ]
     },
     "execution_count": 59,
     "metadata": {},
     "output_type": "execute_result"
    }
   ],
   "source": [
    "lines[0]"
   ]
  },
  {
   "cell_type": "code",
   "execution_count": 60,
   "id": "broad-intelligence",
   "metadata": {},
   "outputs": [],
   "source": [
    "p_str = r'^(\\d+) (\\d+) (\\d+) '\n",
    "p = re.compile(p_str)"
   ]
  },
  {
   "cell_type": "code",
   "execution_count": 61,
   "id": "facial-estimate",
   "metadata": {},
   "outputs": [],
   "source": [
    "lines_with_stamps = [(tuple(map(int,p.match(line).groups())), line) for line in lines]"
   ]
  },
  {
   "cell_type": "code",
   "execution_count": 62,
   "id": "public-aspect",
   "metadata": {},
   "outputs": [],
   "source": [
    "sorted_lines = list(map(operator.itemgetter(1), sorted(lines_with_stamps, key=operator.itemgetter(0))))"
   ]
  },
  {
   "cell_type": "code",
   "execution_count": 69,
   "id": "designing-temple",
   "metadata": {},
   "outputs": [
    {
     "data": {
      "text/plain": [
       "['081111 110444 26 INFO dfs.FSNamesystem: BLOCK* NameSystem.delete: blk_-8577959545943422945 is added to invalidSet of 10.251.214.112:50010\\n',\n",
       " '081111 110444 26 INFO dfs.FSNamesystem: BLOCK* NameSystem.delete: blk_-8577959545943422945 is added to invalidSet of 10.251.37.240:50010\\n',\n",
       " '081111 110444 26 INFO dfs.FSNamesystem: BLOCK* NameSystem.delete: blk_-3157828367431892896 is added to invalidSet of 10.251.121.224:50010\\n',\n",
       " '081111 110444 26 INFO dfs.FSNamesystem: BLOCK* NameSystem.delete: blk_-3157828367431892896 is added to invalidSet of 10.251.198.196:50010\\n',\n",
       " '081111 110444 26 INFO dfs.FSNamesystem: BLOCK* NameSystem.delete: blk_-3157828367431892896 is added to invalidSet of 10.251.67.4:50010\\n',\n",
       " '081111 110444 26 INFO dfs.FSNamesystem: BLOCK* NameSystem.delete: blk_2097261219794367550 is added to invalidSet of 10.250.15.198:50010\\n',\n",
       " '081111 110444 26 INFO dfs.FSNamesystem: BLOCK* NameSystem.delete: blk_2097261219794367550 is added to invalidSet of 10.251.214.130:50010\\n',\n",
       " '081111 110444 26 INFO dfs.FSNamesystem: BLOCK* NameSystem.delete: blk_2097261219794367550 is added to invalidSet of 10.251.30.179:50010\\n',\n",
       " '081111 110444 26 INFO dfs.FSNamesystem: BLOCK* NameSystem.delete: blk_808104669648290178 is added to invalidSet of 10.251.123.99:50010\\n',\n",
       " '081111 110444 26 INFO dfs.FSNamesystem: BLOCK* NameSystem.delete: blk_808104669648290178 is added to invalidSet of 10.251.126.5:50010\\n']"
      ]
     },
     "execution_count": 69,
     "metadata": {},
     "output_type": "execute_result"
    }
   ],
   "source": [
    "sorted_lines[-100000:-99990]"
   ]
  },
  {
   "cell_type": "code",
   "execution_count": 64,
   "id": "deluxe-costume",
   "metadata": {},
   "outputs": [],
   "source": [
    "new_file_name = f'{logfile_path.stem}-time-ordered.log'\n",
    "new_path = logfile_path.parent / new_file_name"
   ]
  },
  {
   "cell_type": "code",
   "execution_count": 65,
   "id": "appreciated-tribe",
   "metadata": {},
   "outputs": [],
   "source": [
    "with new_path.open(mode='w') as f:\n",
    "    f.writelines(sorted_lines)"
   ]
  },
  {
   "cell_type": "code",
   "execution_count": null,
   "id": "drawn-literature",
   "metadata": {},
   "outputs": [],
   "source": []
  }
 ],
 "metadata": {
  "kernelspec": {
   "display_name": "Python 3",
   "language": "python",
   "name": "python3"
  },
  "language_info": {
   "codemirror_mode": {
    "name": "ipython",
    "version": 3
   },
   "file_extension": ".py",
   "mimetype": "text/x-python",
   "name": "python",
   "nbconvert_exporter": "python",
   "pygments_lexer": "ipython3",
   "version": "3.7.4"
  }
 },
 "nbformat": 4,
 "nbformat_minor": 5
}
