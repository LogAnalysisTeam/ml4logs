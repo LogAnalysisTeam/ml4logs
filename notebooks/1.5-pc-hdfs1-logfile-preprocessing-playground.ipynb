{
 "cells": [
  {
   "cell_type": "code",
   "execution_count": 127,
   "id": "automotive-electric",
   "metadata": {},
   "outputs": [],
   "source": [
    "from pathlib import Path\n",
    "import re\n",
    "import operator\n",
    "from collections import defaultdict\n",
    "from typing import DefaultDict\n",
    "from datasets import Dataset\n",
    "from transformers import AutoTokenizer"
   ]
  },
  {
   "cell_type": "code",
   "execution_count": 128,
   "id": "french-norway",
   "metadata": {},
   "outputs": [],
   "source": [
    "logfile_path = Path('/home/cernypro/dev/source/ml4logs/data/interim/HDFS1/val-data-HDFS1-cv1-1.log')"
   ]
  },
  {
   "cell_type": "markdown",
   "id": "secondary-boring",
   "metadata": {},
   "source": [
    "# Ordering by time"
   ]
  },
  {
   "cell_type": "code",
   "execution_count": 129,
   "id": "blank-summer",
   "metadata": {},
   "outputs": [],
   "source": [
    "with logfile_path.open(mode='r') as f:\n",
    "    lines = [line for line in f]"
   ]
  },
  {
   "cell_type": "code",
   "execution_count": 130,
   "id": "exempt-durham",
   "metadata": {},
   "outputs": [
    {
     "data": {
      "text/plain": [
       "'081111 051303 20680 INFO dfs.DataNode$DataXceiver: Receiving block blk_-2703192954496203619 src: /10.251.71.146:45393 dest: /10.251.71.146:50010\\n'"
      ]
     },
     "execution_count": 130,
     "metadata": {},
     "output_type": "execute_result"
    }
   ],
   "source": [
    "lines[0]"
   ]
  },
  {
   "cell_type": "code",
   "execution_count": 60,
   "id": "fifth-perth",
   "metadata": {},
   "outputs": [],
   "source": [
    "p_str = r'^(\\d+) (\\d+) (\\d+) '\n",
    "p = re.compile(p_str)"
   ]
  },
  {
   "cell_type": "code",
   "execution_count": 61,
   "id": "judicial-counter",
   "metadata": {},
   "outputs": [],
   "source": [
    "lines_with_stamps = [(tuple(map(int,p.match(line).groups())), line) for line in lines]"
   ]
  },
  {
   "cell_type": "code",
   "execution_count": 62,
   "id": "soviet-aquatic",
   "metadata": {},
   "outputs": [],
   "source": [
    "sorted_lines = list(map(operator.itemgetter(1), sorted(lines_with_stamps, key=operator.itemgetter(0))))"
   ]
  },
  {
   "cell_type": "code",
   "execution_count": 69,
   "id": "regular-newman",
   "metadata": {},
   "outputs": [
    {
     "data": {
      "text/plain": [
       "['081111 110444 26 INFO dfs.FSNamesystem: BLOCK* NameSystem.delete: blk_-8577959545943422945 is added to invalidSet of 10.251.214.112:50010\\n',\n",
       " '081111 110444 26 INFO dfs.FSNamesystem: BLOCK* NameSystem.delete: blk_-8577959545943422945 is added to invalidSet of 10.251.37.240:50010\\n',\n",
       " '081111 110444 26 INFO dfs.FSNamesystem: BLOCK* NameSystem.delete: blk_-3157828367431892896 is added to invalidSet of 10.251.121.224:50010\\n',\n",
       " '081111 110444 26 INFO dfs.FSNamesystem: BLOCK* NameSystem.delete: blk_-3157828367431892896 is added to invalidSet of 10.251.198.196:50010\\n',\n",
       " '081111 110444 26 INFO dfs.FSNamesystem: BLOCK* NameSystem.delete: blk_-3157828367431892896 is added to invalidSet of 10.251.67.4:50010\\n',\n",
       " '081111 110444 26 INFO dfs.FSNamesystem: BLOCK* NameSystem.delete: blk_2097261219794367550 is added to invalidSet of 10.250.15.198:50010\\n',\n",
       " '081111 110444 26 INFO dfs.FSNamesystem: BLOCK* NameSystem.delete: blk_2097261219794367550 is added to invalidSet of 10.251.214.130:50010\\n',\n",
       " '081111 110444 26 INFO dfs.FSNamesystem: BLOCK* NameSystem.delete: blk_2097261219794367550 is added to invalidSet of 10.251.30.179:50010\\n',\n",
       " '081111 110444 26 INFO dfs.FSNamesystem: BLOCK* NameSystem.delete: blk_808104669648290178 is added to invalidSet of 10.251.123.99:50010\\n',\n",
       " '081111 110444 26 INFO dfs.FSNamesystem: BLOCK* NameSystem.delete: blk_808104669648290178 is added to invalidSet of 10.251.126.5:50010\\n']"
      ]
     },
     "execution_count": 69,
     "metadata": {},
     "output_type": "execute_result"
    }
   ],
   "source": [
    "sorted_lines[-100000:-99990]"
   ]
  },
  {
   "cell_type": "code",
   "execution_count": 64,
   "id": "pursuant-cruise",
   "metadata": {},
   "outputs": [],
   "source": [
    "new_file_name = f'{logfile_path.stem}-time-ordered.log'\n",
    "new_path = logfile_path.parent / new_file_name"
   ]
  },
  {
   "cell_type": "code",
   "execution_count": 65,
   "id": "relevant-penguin",
   "metadata": {},
   "outputs": [],
   "source": [
    "with new_path.open(mode='w') as f:\n",
    "    f.writelines(sorted_lines)"
   ]
  },
  {
   "cell_type": "markdown",
   "id": "satisfied-speaking",
   "metadata": {},
   "source": [
    "# Contexts by blocks"
   ]
  },
  {
   "cell_type": "code",
   "execution_count": 131,
   "id": "understanding-canadian",
   "metadata": {},
   "outputs": [],
   "source": [
    "MIN_CONTEXT_SIZE = 2\n",
    "MAX_CONTEXT_SIZE = 10"
   ]
  },
  {
   "cell_type": "code",
   "execution_count": 132,
   "id": "pleasant-impossible",
   "metadata": {},
   "outputs": [],
   "source": [
    "def load_grouped(file_path: Path) -> DefaultDict:\n",
    "    traces = defaultdict(list)\n",
    "\n",
    "    regex = re.compile(r'(blk_-?\\d+)')  # pattern eg. blk_-1608999687919862906\n",
    "\n",
    "    with file_path.open(mode='r') as f:\n",
    "        for line in f:\n",
    "            block_id = regex.search(line).group()\n",
    "            traces[block_id].append(line)\n",
    "    return traces"
   ]
  },
  {
   "cell_type": "code",
   "execution_count": 133,
   "id": "spectacular-premises",
   "metadata": {},
   "outputs": [],
   "source": [
    "blocks = load_grouped(logfile_path)"
   ]
  },
  {
   "cell_type": "code",
   "execution_count": 134,
   "id": "arabic-investigator",
   "metadata": {},
   "outputs": [],
   "source": [
    "def create_contexts_from_blocks(block_dict, min_context_size:int, max_context_size:int):\n",
    "    contexts = []\n",
    "    for block_id, lines in block_dict.items():\n",
    "        cur_context = []\n",
    "        for line in lines:\n",
    "            cur_context.append(line)\n",
    "            if len(cur_context) >= max_context_size:\n",
    "                contexts.append(cur_context)\n",
    "                cur_context = []\n",
    "        if min_context_size <= len(cur_context) < max_context_size:\n",
    "            contexts.append(cur_context)\n",
    "    return contexts\n",
    "        "
   ]
  },
  {
   "cell_type": "code",
   "execution_count": 109,
   "id": "extreme-hampshire",
   "metadata": {},
   "outputs": [],
   "source": [
    "tst = {f'tst{i}' : blocks[list(blocks.keys())[i]] for i in range(2)}"
   ]
  },
  {
   "cell_type": "code",
   "execution_count": 135,
   "id": "thirty-newport",
   "metadata": {},
   "outputs": [],
   "source": [
    "chunks_lines = create_contexts_from_blocks(blocks, MIN_CONTEXT_SIZE, MAX_CONTEXT_SIZE)"
   ]
  },
  {
   "cell_type": "code",
   "execution_count": 136,
   "id": "swedish-search",
   "metadata": {},
   "outputs": [],
   "source": [
    "chunks_dataset = Dataset.from_dict({'chunk': chunks_lines})"
   ]
  },
  {
   "cell_type": "code",
   "execution_count": 137,
   "id": "limited-study",
   "metadata": {},
   "outputs": [],
   "source": [
    "tokenizer = AutoTokenizer.from_pretrained(\"distilbert-base-cased\")"
   ]
  },
  {
   "cell_type": "code",
   "execution_count": 138,
   "id": "absolute-crazy",
   "metadata": {},
   "outputs": [
    {
     "name": "stdout",
     "output_type": "stream",
     "text": [
      "CPU times: user 4min 32s, sys: 42.2 s, total: 5min 14s\n",
      "Wall time: 1min 47s\n"
     ]
    }
   ],
   "source": [
    "%%time\n",
    "tokenized_chunks = [tokenizer(chunk, add_special_tokens=False, truncation=True, return_attention_mask=False)['input_ids'] for chunk in chunks_lines]"
   ]
  },
  {
   "cell_type": "code",
   "execution_count": 139,
   "id": "understanding-triangle",
   "metadata": {},
   "outputs": [
    {
     "data": {
      "text/plain": [
       "115988"
      ]
     },
     "execution_count": 139,
     "metadata": {},
     "output_type": "execute_result"
    }
   ],
   "source": [
    "len(tokenized_chunks)"
   ]
  },
  {
   "cell_type": "code",
   "execution_count": 140,
   "id": "governmental-expense",
   "metadata": {},
   "outputs": [
    {
     "data": {
      "text/plain": [
       "115988"
      ]
     },
     "execution_count": 140,
     "metadata": {},
     "output_type": "execute_result"
    }
   ],
   "source": [
    "len(chunks_lines)"
   ]
  },
  {
   "cell_type": "code",
   "execution_count": 143,
   "id": "studied-console",
   "metadata": {},
   "outputs": [
    {
     "data": {
      "text/plain": [
       "{'chunk': ['081111 051303 20680 INFO dfs.DataNode$DataXceiver: Receiving block blk_-2703192954496203619 src: /10.251.71.146:45393 dest: /10.251.71.146:50010\\n',\n",
       "  '081111 051303 30 INFO dfs.FSNamesystem: BLOCK* NameSystem.allocateBlock: /user/root/rand5/_temporary/_task_200811101024_0011_m_000849_0/part-00849. blk_-2703192954496203619\\n',\n",
       "  '081111 051304 20827 INFO dfs.DataNode$DataXceiver: Receiving block blk_-2703192954496203619 src: /10.251.111.228:46287 dest: /10.251.111.228:50010\\n',\n",
       "  '081111 051304 20881 INFO dfs.DataNode$DataXceiver: Receiving block blk_-2703192954496203619 src: /10.251.71.146:47540 dest: /10.251.71.146:50010\\n',\n",
       "  '081111 051343 20828 INFO dfs.DataNode$PacketResponder: PacketResponder 0 for block blk_-2703192954496203619 terminating\\n',\n",
       "  '081111 051343 20828 INFO dfs.DataNode$PacketResponder: Received block blk_-2703192954496203619 of size 67108864 from /10.251.111.228\\n',\n",
       "  '081111 051343 20882 INFO dfs.DataNode$PacketResponder: Received block blk_-2703192954496203619 of size 67108864 from /10.251.71.146\\n',\n",
       "  '081111 051343 27 INFO dfs.FSNamesystem: BLOCK* NameSystem.addStoredBlock: blockMap updated: 10.251.193.175:50010 is added to blk_-2703192954496203619 size 67108864\\n',\n",
       "  '081111 051344 20681 INFO dfs.DataNode$PacketResponder: PacketResponder 2 for block blk_-2703192954496203619 terminating\\n',\n",
       "  '081111 051344 20681 INFO dfs.DataNode$PacketResponder: Received block blk_-2703192954496203619 of size 67108864 from /10.251.71.146\\n']}"
      ]
     },
     "execution_count": 143,
     "metadata": {},
     "output_type": "execute_result"
    }
   ],
   "source": [
    "chunks_dataset[0]"
   ]
  },
  {
   "cell_type": "code",
   "execution_count": 142,
   "id": "gross-clearance",
   "metadata": {},
   "outputs": [
    {
     "data": {
      "application/vnd.jupyter.widget-view+json": {
       "model_id": "1fe5afb5cfa8474caa0e4017952aff4e",
       "version_major": 2,
       "version_minor": 0
      },
      "text/plain": [
       "HBox(children=(FloatProgress(value=0.0, max=115988.0), HTML(value='')))"
      ]
     },
     "metadata": {},
     "output_type": "display_data"
    },
    {
     "name": "stdout",
     "output_type": "stream",
     "text": [
      "\n",
      "CPU times: user 4min 54s, sys: 45.4 s, total: 5min 40s\n",
      "Wall time: 2min 23s\n"
     ]
    }
   ],
   "source": [
    "%%time\n",
    "tokenized_dataset = chunks_dataset.map(lambda example: {'chunk': tokenizer(example['chunk'], add_special_tokens=False, truncation=True, return_attention_mask=False)['input_ids'] })"
   ]
  }
 ],
 "metadata": {
  "kernelspec": {
   "display_name": "Python 3",
   "language": "python",
   "name": "python3"
  },
  "language_info": {
   "codemirror_mode": {
    "name": "ipython",
    "version": 3
   },
   "file_extension": ".py",
   "mimetype": "text/x-python",
   "name": "python",
   "nbconvert_exporter": "python",
   "pygments_lexer": "ipython3",
   "version": "3.7.4"
  }
 },
 "nbformat": 4,
 "nbformat_minor": 5
}
