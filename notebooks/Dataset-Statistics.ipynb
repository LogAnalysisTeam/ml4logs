{
 "cells": [
  {
   "cell_type": "code",
   "execution_count": 1,
   "id": "uniform-conclusion",
   "metadata": {},
   "outputs": [],
   "source": [
    "import pandas as pd\n",
    "from datasets import load_dataset\n",
    "import numpy as np\n",
    "from pathlib import Path\n",
    "import time\n",
    "import tikzplotlib\n",
    "import matplotlib.pyplot as plt\n",
    "import matplotlib.ticker as mtick\n",
    "import seaborn as sns\n",
    "sns.set()"
   ]
  },
  {
   "cell_type": "code",
   "execution_count": 2,
   "id": "fantastic-pressing",
   "metadata": {},
   "outputs": [],
   "source": [
    "import sys\n",
    "sys.path.append('/home/cernypro/dev/source/ml4logs/src/bert')\n",
    "from dataset_utils import my_caching_load_from_disk"
   ]
  },
  {
   "cell_type": "code",
   "execution_count": 4,
   "id": "million-romania",
   "metadata": {},
   "outputs": [],
   "source": [
    "used_dataset_str_paths = {\n",
    "        'train-data-HDFS1-cv1-1-time-ordered': '/home/cernypro/dev/source/ml4logs/data/interim/HDFS1/no_timestamps_train-data-HDFS1-cv1-1-time-ordered.log',\n",
    "        'HDFS2-secondarynamenode': '/home/cernypro/dev/source/ml4logs/data/interim/HDFS2/no_timestamps_cleaned/hadoop-hdfs-secondarynamenode-mesos-01.log',\n",
    "        'HDFS2-namenode': '/home/cernypro/dev/source/ml4logs/data/interim/HDFS2/no_timestamps_cleaned/hadoop-hdfs-namenode-mesos-01.log',\n",
    "        'HDFS2-datanode-01': '/home/cernypro/dev/source/ml4logs/data/interim/HDFS2/no_timestamps_cleaned/hadoop-hdfs-datanode-mesos-01.log',\n",
    "        'HDFS2-datanode-13': '/home/cernypro/dev/source/ml4logs/data/interim/HDFS2/no_timestamps_cleaned/hadoop-hdfs-datanode-mesos-13.log',\n",
    "        'Spark': '/home/cernypro/dev/source/ml4logs/data/interim/Spark/no_timestamps_spark.log',\n",
    "        'Zookeeper': '/home/cernypro/dev/source/ml4logs/data/interim/Zookeeper/no_timestamps_zookeeper.log',\n",
    "        'BGL': '/home/cernypro/dev/source/ml4logs/data/interim/BGL/no_timestamps_bgl.log',\n",
    "        'Hadoop': '/home/cernypro/dev/source/ml4logs/data/interim/Hadoop/no_timestamps_hadoop.log',\n",
    "    }\n",
    "used_dataset_paths = {name: Path(str_path) for name, str_path in used_dataset_str_paths.items()}"
   ]
  },
  {
   "cell_type": "code",
   "execution_count": 6,
   "id": "general-collector",
   "metadata": {},
   "outputs": [
    {
     "name": "stderr",
     "output_type": "stream",
     "text": [
      "Using custom data configuration default-c37dfdef1afd7af3\n"
     ]
    },
    {
     "name": "stdout",
     "output_type": "stream",
     "text": [
      "Downloading and preparing dataset text/default (download: Unknown size, generated: Unknown size, post-processed: Unknown size, total: Unknown size) to /data/temporary/huggingface_2369479/datasets/text/default-c37dfdef1afd7af3/0.0.0/e16f44aa1b321ece1f87b07977cc5d70be93d69b20486d6dacd62e12cf25c9a5...\n"
     ]
    },
    {
     "data": {
      "application/vnd.jupyter.widget-view+json": {
       "model_id": "",
       "version_major": 2,
       "version_minor": 0
      },
      "text/plain": [
       "HBox(children=(FloatProgress(value=1.0, bar_style='info', layout=Layout(width='20px'), max=1.0), HTML(value=''…"
      ]
     },
     "metadata": {},
     "output_type": "display_data"
    },
    {
     "name": "stdout",
     "output_type": "stream",
     "text": [
      "Dataset text downloaded and prepared to /data/temporary/huggingface_2369479/datasets/text/default-c37dfdef1afd7af3/0.0.0/e16f44aa1b321ece1f87b07977cc5d70be93d69b20486d6dacd62e12cf25c9a5. Subsequent calls will reuse this data.\n"
     ]
    },
    {
     "name": "stderr",
     "output_type": "stream",
     "text": [
      "Using custom data configuration default-b99be5cdfeb6e002\n"
     ]
    },
    {
     "name": "stdout",
     "output_type": "stream",
     "text": [
      "Downloading and preparing dataset text/default (download: Unknown size, generated: Unknown size, post-processed: Unknown size, total: Unknown size) to /data/temporary/huggingface_2369479/datasets/text/default-b99be5cdfeb6e002/0.0.0/e16f44aa1b321ece1f87b07977cc5d70be93d69b20486d6dacd62e12cf25c9a5...\n"
     ]
    },
    {
     "data": {
      "application/vnd.jupyter.widget-view+json": {
       "model_id": "",
       "version_major": 2,
       "version_minor": 0
      },
      "text/plain": [
       "HBox(children=(FloatProgress(value=1.0, bar_style='info', layout=Layout(width='20px'), max=1.0), HTML(value=''…"
      ]
     },
     "metadata": {},
     "output_type": "display_data"
    },
    {
     "name": "stdout",
     "output_type": "stream",
     "text": [
      "Dataset text downloaded and prepared to /data/temporary/huggingface_2369479/datasets/text/default-b99be5cdfeb6e002/0.0.0/e16f44aa1b321ece1f87b07977cc5d70be93d69b20486d6dacd62e12cf25c9a5. Subsequent calls will reuse this data.\n"
     ]
    },
    {
     "name": "stderr",
     "output_type": "stream",
     "text": [
      "Using custom data configuration default-f41d8aa6fd25d289\n"
     ]
    },
    {
     "name": "stdout",
     "output_type": "stream",
     "text": [
      "Downloading and preparing dataset text/default (download: Unknown size, generated: Unknown size, post-processed: Unknown size, total: Unknown size) to /data/temporary/huggingface_2369479/datasets/text/default-f41d8aa6fd25d289/0.0.0/e16f44aa1b321ece1f87b07977cc5d70be93d69b20486d6dacd62e12cf25c9a5...\n"
     ]
    },
    {
     "data": {
      "application/vnd.jupyter.widget-view+json": {
       "model_id": "",
       "version_major": 2,
       "version_minor": 0
      },
      "text/plain": [
       "HBox(children=(FloatProgress(value=1.0, bar_style='info', layout=Layout(width='20px'), max=1.0), HTML(value=''…"
      ]
     },
     "metadata": {},
     "output_type": "display_data"
    },
    {
     "name": "stdout",
     "output_type": "stream",
     "text": [
      "Dataset text downloaded and prepared to /data/temporary/huggingface_2369479/datasets/text/default-f41d8aa6fd25d289/0.0.0/e16f44aa1b321ece1f87b07977cc5d70be93d69b20486d6dacd62e12cf25c9a5. Subsequent calls will reuse this data.\n"
     ]
    },
    {
     "name": "stderr",
     "output_type": "stream",
     "text": [
      "Using custom data configuration default-19212d6ab26463c2\n"
     ]
    },
    {
     "name": "stdout",
     "output_type": "stream",
     "text": [
      "Downloading and preparing dataset text/default (download: Unknown size, generated: Unknown size, post-processed: Unknown size, total: Unknown size) to /data/temporary/huggingface_2369479/datasets/text/default-19212d6ab26463c2/0.0.0/e16f44aa1b321ece1f87b07977cc5d70be93d69b20486d6dacd62e12cf25c9a5...\n"
     ]
    },
    {
     "data": {
      "application/vnd.jupyter.widget-view+json": {
       "model_id": "",
       "version_major": 2,
       "version_minor": 0
      },
      "text/plain": [
       "HBox(children=(FloatProgress(value=1.0, bar_style='info', layout=Layout(width='20px'), max=1.0), HTML(value=''…"
      ]
     },
     "metadata": {},
     "output_type": "display_data"
    },
    {
     "name": "stdout",
     "output_type": "stream",
     "text": [
      "Dataset text downloaded and prepared to /data/temporary/huggingface_2369479/datasets/text/default-19212d6ab26463c2/0.0.0/e16f44aa1b321ece1f87b07977cc5d70be93d69b20486d6dacd62e12cf25c9a5. Subsequent calls will reuse this data.\n"
     ]
    },
    {
     "name": "stderr",
     "output_type": "stream",
     "text": [
      "Using custom data configuration default-e96a232d708f947b\n"
     ]
    },
    {
     "name": "stdout",
     "output_type": "stream",
     "text": [
      "Downloading and preparing dataset text/default (download: Unknown size, generated: Unknown size, post-processed: Unknown size, total: Unknown size) to /data/temporary/huggingface_2369479/datasets/text/default-e96a232d708f947b/0.0.0/e16f44aa1b321ece1f87b07977cc5d70be93d69b20486d6dacd62e12cf25c9a5...\n"
     ]
    },
    {
     "data": {
      "application/vnd.jupyter.widget-view+json": {
       "model_id": "",
       "version_major": 2,
       "version_minor": 0
      },
      "text/plain": [
       "HBox(children=(FloatProgress(value=1.0, bar_style='info', layout=Layout(width='20px'), max=1.0), HTML(value=''…"
      ]
     },
     "metadata": {},
     "output_type": "display_data"
    },
    {
     "name": "stdout",
     "output_type": "stream",
     "text": [
      "Dataset text downloaded and prepared to /data/temporary/huggingface_2369479/datasets/text/default-e96a232d708f947b/0.0.0/e16f44aa1b321ece1f87b07977cc5d70be93d69b20486d6dacd62e12cf25c9a5. Subsequent calls will reuse this data.\n"
     ]
    },
    {
     "name": "stderr",
     "output_type": "stream",
     "text": [
      "Using custom data configuration default-797ae1d4c6e31079\n"
     ]
    },
    {
     "name": "stdout",
     "output_type": "stream",
     "text": [
      "Downloading and preparing dataset text/default (download: Unknown size, generated: Unknown size, post-processed: Unknown size, total: Unknown size) to /data/temporary/huggingface_2369479/datasets/text/default-797ae1d4c6e31079/0.0.0/e16f44aa1b321ece1f87b07977cc5d70be93d69b20486d6dacd62e12cf25c9a5...\n"
     ]
    },
    {
     "data": {
      "application/vnd.jupyter.widget-view+json": {
       "model_id": "",
       "version_major": 2,
       "version_minor": 0
      },
      "text/plain": [
       "HBox(children=(FloatProgress(value=1.0, bar_style='info', layout=Layout(width='20px'), max=1.0), HTML(value=''…"
      ]
     },
     "metadata": {},
     "output_type": "display_data"
    },
    {
     "name": "stdout",
     "output_type": "stream",
     "text": [
      "Dataset text downloaded and prepared to /data/temporary/huggingface_2369479/datasets/text/default-797ae1d4c6e31079/0.0.0/e16f44aa1b321ece1f87b07977cc5d70be93d69b20486d6dacd62e12cf25c9a5. Subsequent calls will reuse this data.\n"
     ]
    },
    {
     "name": "stderr",
     "output_type": "stream",
     "text": [
      "Using custom data configuration default-84762dc70b7e16ca\n"
     ]
    },
    {
     "name": "stdout",
     "output_type": "stream",
     "text": [
      "Downloading and preparing dataset text/default (download: Unknown size, generated: Unknown size, post-processed: Unknown size, total: Unknown size) to /data/temporary/huggingface_2369479/datasets/text/default-84762dc70b7e16ca/0.0.0/e16f44aa1b321ece1f87b07977cc5d70be93d69b20486d6dacd62e12cf25c9a5...\n"
     ]
    },
    {
     "data": {
      "application/vnd.jupyter.widget-view+json": {
       "model_id": "",
       "version_major": 2,
       "version_minor": 0
      },
      "text/plain": [
       "HBox(children=(FloatProgress(value=1.0, bar_style='info', layout=Layout(width='20px'), max=1.0), HTML(value=''…"
      ]
     },
     "metadata": {},
     "output_type": "display_data"
    },
    {
     "name": "stdout",
     "output_type": "stream",
     "text": [
      "Dataset text downloaded and prepared to /data/temporary/huggingface_2369479/datasets/text/default-84762dc70b7e16ca/0.0.0/e16f44aa1b321ece1f87b07977cc5d70be93d69b20486d6dacd62e12cf25c9a5. Subsequent calls will reuse this data.\n"
     ]
    },
    {
     "name": "stderr",
     "output_type": "stream",
     "text": [
      "Using custom data configuration default-5d8b7074f203daa6\n"
     ]
    },
    {
     "name": "stdout",
     "output_type": "stream",
     "text": [
      "Downloading and preparing dataset text/default (download: Unknown size, generated: Unknown size, post-processed: Unknown size, total: Unknown size) to /data/temporary/huggingface_2369479/datasets/text/default-5d8b7074f203daa6/0.0.0/e16f44aa1b321ece1f87b07977cc5d70be93d69b20486d6dacd62e12cf25c9a5...\n"
     ]
    },
    {
     "data": {
      "application/vnd.jupyter.widget-view+json": {
       "model_id": "",
       "version_major": 2,
       "version_minor": 0
      },
      "text/plain": [
       "HBox(children=(FloatProgress(value=1.0, bar_style='info', layout=Layout(width='20px'), max=1.0), HTML(value=''…"
      ]
     },
     "metadata": {},
     "output_type": "display_data"
    },
    {
     "name": "stdout",
     "output_type": "stream",
     "text": [
      "Dataset text downloaded and prepared to /data/temporary/huggingface_2369479/datasets/text/default-5d8b7074f203daa6/0.0.0/e16f44aa1b321ece1f87b07977cc5d70be93d69b20486d6dacd62e12cf25c9a5. Subsequent calls will reuse this data.\n"
     ]
    },
    {
     "name": "stderr",
     "output_type": "stream",
     "text": [
      "Using custom data configuration default-b330722173ed2c9c\n"
     ]
    },
    {
     "name": "stdout",
     "output_type": "stream",
     "text": [
      "Downloading and preparing dataset text/default (download: Unknown size, generated: Unknown size, post-processed: Unknown size, total: Unknown size) to /data/temporary/huggingface_2369479/datasets/text/default-b330722173ed2c9c/0.0.0/e16f44aa1b321ece1f87b07977cc5d70be93d69b20486d6dacd62e12cf25c9a5...\n"
     ]
    },
    {
     "data": {
      "application/vnd.jupyter.widget-view+json": {
       "model_id": "",
       "version_major": 2,
       "version_minor": 0
      },
      "text/plain": [
       "HBox(children=(FloatProgress(value=1.0, bar_style='info', layout=Layout(width='20px'), max=1.0), HTML(value=''…"
      ]
     },
     "metadata": {},
     "output_type": "display_data"
    },
    {
     "name": "stdout",
     "output_type": "stream",
     "text": [
      "Dataset text downloaded and prepared to /data/temporary/huggingface_2369479/datasets/text/default-b330722173ed2c9c/0.0.0/e16f44aa1b321ece1f87b07977cc5d70be93d69b20486d6dacd62e12cf25c9a5. Subsequent calls will reuse this data.\n",
      "Loading datasets Time taken: 81.58353996276855s\n"
     ]
    }
   ],
   "source": [
    "start = time.time()\n",
    "datasets = {name: load_dataset('text', data_files=str(path), split='train') for name, path in used_dataset_paths.items()}\n",
    "print(f\"Loading datasets Time taken: {time.time() - start}s\")"
   ]
  },
  {
   "cell_type": "code",
   "execution_count": 7,
   "id": "cubic-softball",
   "metadata": {},
   "outputs": [],
   "source": [
    "ds_lens = {name: len(ds) for name, ds in datasets.items()}"
   ]
  },
  {
   "cell_type": "code",
   "execution_count": 8,
   "id": "disabled-doctor",
   "metadata": {},
   "outputs": [
    {
     "data": {
      "text/plain": [
       "{'train-data-HDFS1-cv1-1-time-ordered': 9051028,\n",
       " 'HDFS2-secondarynamenode': 710534,\n",
       " 'HDFS2-namenode': 16892910,\n",
       " 'HDFS2-datanode-01': 2614790,\n",
       " 'HDFS2-datanode-13': 1968119,\n",
       " 'Spark': 33236604,\n",
       " 'Zookeeper': 74380,\n",
       " 'BGL': 4747963,\n",
       " 'Hadoop': 393431}"
      ]
     },
     "execution_count": 8,
     "metadata": {},
     "output_type": "execute_result"
    }
   ],
   "source": [
    "ds_lens"
   ]
  },
  {
   "cell_type": "code",
   "execution_count": 3,
   "id": "muslim-emerald",
   "metadata": {},
   "outputs": [],
   "source": [
    "train_time_ordered_ds = my_caching_load_from_disk(Path('/home/cernypro/dev/source/ml4logs/data/interim/HDFS1/no_timestamps_train-data-HDFS1-cv1-1-time-ordered/purely_tokenized_distilbert-base-cased'))"
   ]
  },
  {
   "cell_type": "code",
   "execution_count": 4,
   "id": "actual-merit",
   "metadata": {},
   "outputs": [
    {
     "data": {
      "application/vnd.jupyter.widget-view+json": {
       "model_id": "1850096d821548bd9a607d77a15fc00f",
       "version_major": 2,
       "version_minor": 0
      },
      "text/plain": [
       "HBox(children=(FloatProgress(value=0.0, max=1811.0), HTML(value='')))"
      ]
     },
     "metadata": {},
     "output_type": "display_data"
    },
    {
     "name": "stdout",
     "output_type": "stream",
     "text": [
      "\n"
     ]
    }
   ],
   "source": [
    "lens_ds = train_time_ordered_ds.map(lambda tokens_batch: {'len': [len(tokens) for tokens in tokens_batch]}, input_columns='tokens', remove_columns=['text', 'tokens'], batched=True, batch_size=5000)"
   ]
  },
  {
   "cell_type": "code",
   "execution_count": 5,
   "id": "alpine-artwork",
   "metadata": {},
   "outputs": [],
   "source": [
    "tokenized_lengths = np.array(lens_ds['len'])"
   ]
  },
  {
   "cell_type": "code",
   "execution_count": 6,
   "id": "sticky-chapter",
   "metadata": {},
   "outputs": [
    {
     "data": {
      "text/plain": [
       "58.646538824098215"
      ]
     },
     "execution_count": 6,
     "metadata": {},
     "output_type": "execute_result"
    }
   ],
   "source": [
    "tokenized_lengths.mean()"
   ]
  },
  {
   "cell_type": "code",
   "execution_count": 7,
   "id": "helpful-reynolds",
   "metadata": {},
   "outputs": [],
   "source": [
    "tok_lens_df = pd.DataFrame({'tokenized_length': tokenized_lengths})"
   ]
  },
  {
   "cell_type": "code",
   "execution_count": 28,
   "id": "injured-fashion",
   "metadata": {},
   "outputs": [],
   "source": [
    "tok_lens_df.to_csv('HDFS1_train_time_distilbert_tokenized_lengths.csv', index=False)"
   ]
  },
  {
   "cell_type": "code",
   "execution_count": 8,
   "id": "enormous-topic",
   "metadata": {},
   "outputs": [
    {
     "data": {
      "text/plain": [
       "Text(0.5, 0, 'Tokenized sentence length')"
      ]
     },
     "execution_count": 8,
     "metadata": {},
     "output_type": "execute_result"
    },
    {
     "data": {
      "image/png": "[encoded data removed]",
      "text/plain": [
       "<Figure size 432x288 with 1 Axes>"
      ]
     },
     "metadata": {},
     "output_type": "display_data"
    }
   ],
   "source": [
    "fig, ax = plt.subplots()\n",
    "ax.hist(tokenized_lengths, bins=26, density=True)\n",
    "ax.yaxis.set_major_formatter(mtick.PercentFormatter(1.0))\n",
    "ax.set_xlabel('Tokenized sentence length')\n",
    "#tikzplotlib.save(\"HDFS1TrainBertTokenizedLengths.tikz\")"
   ]
  },
  {
   "cell_type": "code",
   "execution_count": 9,
   "id": "continuous-darwin",
   "metadata": {},
   "outputs": [],
   "source": [
    "train_time_ordered_roberta_ds = my_caching_load_from_disk(Path('/home/cernypro/dev/source/ml4logs/data/interim/HDFS1/no_timestamps_train-data-HDFS1-cv1-1-time-ordered/purely_tokenized_distilroberta-base'))"
   ]
  },
  {
   "cell_type": "code",
   "execution_count": 10,
   "id": "studied-grave",
   "metadata": {},
   "outputs": [
    {
     "data": {
      "application/vnd.jupyter.widget-view+json": {
       "model_id": "b31ec6d897c047338ccfbeedbd3f5120",
       "version_major": 2,
       "version_minor": 0
      },
      "text/plain": [
       "HBox(children=(FloatProgress(value=0.0, max=9052.0), HTML(value='')))"
      ]
     },
     "metadata": {},
     "output_type": "display_data"
    },
    {
     "name": "stdout",
     "output_type": "stream",
     "text": [
      "\n"
     ]
    }
   ],
   "source": [
    "hdfs_roberta_lens_ds = train_time_ordered_roberta_ds.map(lambda tokens_batch: {'len': [len(tokens) for tokens in tokens_batch]}, input_columns='tokens', remove_columns=['text', 'tokens'], batched=True)"
   ]
  },
  {
   "cell_type": "code",
   "execution_count": 11,
   "id": "infinite-allowance",
   "metadata": {},
   "outputs": [],
   "source": [
    "roberta_tokenized_lengths = np.array(hdfs_roberta_lens_ds['len'])"
   ]
  },
  {
   "cell_type": "code",
   "execution_count": 12,
   "id": "twenty-response",
   "metadata": {},
   "outputs": [
    {
     "data": {
      "text/plain": [
       "94"
      ]
     },
     "execution_count": 12,
     "metadata": {},
     "output_type": "execute_result"
    }
   ],
   "source": [
    "np.max(roberta_tokenized_lengths)"
   ]
  },
  {
   "cell_type": "code",
   "execution_count": 13,
   "id": "fantastic-willow",
   "metadata": {},
   "outputs": [],
   "source": [
    "rob_lens_df = pd.DataFrame({'tokenized_length': roberta_tokenized_lengths})\n",
    "# rob_lens_df.to_csv('HDFS1_train_time_roberta_tokenized_lengths.csv', index=False)"
   ]
  },
  {
   "cell_type": "code",
   "execution_count": 14,
   "id": "balanced-jumping",
   "metadata": {},
   "outputs": [
    {
     "data": {
      "text/plain": [
       "Text(0.5, 0, 'Tokenized sentence length')"
      ]
     },
     "execution_count": 14,
     "metadata": {},
     "output_type": "execute_result"
    },
    {
     "data": {
      "image/png": "[encoded data removed]",
      "text/plain": [
       "<Figure size 432x288 with 1 Axes>"
      ]
     },
     "metadata": {},
     "output_type": "display_data"
    }
   ],
   "source": [
    "fig, ax = plt.subplots()\n",
    "ax.hist(roberta_tokenized_lengths, bins=26, density=True)\n",
    "ax.yaxis.set_major_formatter(mtick.PercentFormatter(1.0))\n",
    "ax.set_xlabel('Tokenized sentence length')\n",
    "# tikzplotlib.save(\"HDFS1TrainRobertaTokenizedLengths.tikz\")"
   ]
  },
  {
   "cell_type": "code",
   "execution_count": 15,
   "id": "uniform-korea",
   "metadata": {},
   "outputs": [],
   "source": [
    "comb_ds = my_caching_load_from_disk(Path('/home/cernypro/dev/source/ml4logs/data/interim/Combined_20210401/source_text_tokens_chunks_shuffled_seed-43/train'))"
   ]
  },
  {
   "cell_type": "code",
   "execution_count": 16,
   "id": "weekly-million",
   "metadata": {},
   "outputs": [
    {
     "data": {
      "text/plain": [
       "Dataset({\n",
       "    features: ['chunk_text', 'chunk_tokens'],\n",
       "    num_rows: 614429\n",
       "})"
      ]
     },
     "execution_count": 16,
     "metadata": {},
     "output_type": "execute_result"
    }
   ],
   "source": [
    "comb_ds"
   ]
  },
  {
   "cell_type": "code",
   "execution_count": 17,
   "id": "spatial-macintosh",
   "metadata": {},
   "outputs": [
    {
     "data": {
      "application/vnd.jupyter.widget-view+json": {
       "model_id": "d6f52241c76d4f2ea5653be7d051b857",
       "version_major": 2,
       "version_minor": 0
      },
      "text/plain": [
       "HBox(children=(FloatProgress(value=0.0, max=615.0), HTML(value='')))"
      ]
     },
     "metadata": {},
     "output_type": "display_data"
    },
    {
     "name": "stdout",
     "output_type": "stream",
     "text": [
      "\n"
     ]
    }
   ],
   "source": [
    "comb_tok_lens_ds = comb_ds.map(lambda tokens_chunk: {'len': [len(tokens) for chunk in tokens_chunk for tokens in chunk]}, input_columns='chunk_tokens', remove_columns=['chunk_text', 'chunk_tokens'], batched=True)"
   ]
  },
  {
   "cell_type": "code",
   "execution_count": 18,
   "id": "chronic-visit",
   "metadata": {},
   "outputs": [],
   "source": [
    "comb_tok_lens = np.array(comb_tok_lens_ds['len'])"
   ]
  },
  {
   "cell_type": "code",
   "execution_count": 53,
   "id": "initial-squad",
   "metadata": {},
   "outputs": [
    {
     "data": {
      "text/plain": [
       "512"
      ]
     },
     "execution_count": 53,
     "metadata": {},
     "output_type": "execute_result"
    }
   ],
   "source": [
    "np.max(comb_tok_lens)"
   ]
  },
  {
   "cell_type": "code",
   "execution_count": 49,
   "id": "constitutional-advocate",
   "metadata": {},
   "outputs": [
    {
     "data": {
      "image/png": "[encoded data removed]",
      "text/plain": [
       "<Figure size 432x288 with 1 Axes>"
      ]
     },
     "metadata": {},
     "output_type": "display_data"
    }
   ],
   "source": [
    "fig, ax = plt.subplots()\n",
    "ax.hist(comb_tok_lens, bins=33, density=True)\n",
    "ax.yaxis.set_major_formatter(mtick.PercentFormatter(1.0))\n",
    "ax.set_xlabel('Tokenized sentence length')\n",
    "tikzplotlib.save(\"CombinedBertTokenizedLengths.tikz\")"
   ]
  },
  {
   "cell_type": "code",
   "execution_count": 21,
   "id": "educated-development",
   "metadata": {},
   "outputs": [],
   "source": [
    "comb_lens_df = pd.DataFrame({'tokenized_length': comb_tok_lens})\n",
    "# comb_lens_df.to_csv('Combined20210401_distilbert_tokenized_lengths.csv', index=False)"
   ]
  },
  {
   "cell_type": "code",
   "execution_count": 22,
   "id": "systematic-billy",
   "metadata": {},
   "outputs": [
    {
     "data": {
      "text/html": [
       "<div>\n",
       "<style scoped>\n",
       "    .dataframe tbody tr th:only-of-type {\n",
       "        vertical-align: middle;\n",
       "    }\n",
       "\n",
       "    .dataframe tbody tr th {\n",
       "        vertical-align: top;\n",
       "    }\n",
       "\n",
       "    .dataframe thead th {\n",
       "        text-align: right;\n",
       "    }\n",
       "</style>\n",
       "<table border=\"1\" class=\"dataframe\">\n",
       "  <thead>\n",
       "    <tr style=\"text-align: right;\">\n",
       "      <th></th>\n",
       "      <th>tokenized_length</th>\n",
       "    </tr>\n",
       "  </thead>\n",
       "  <tbody>\n",
       "    <tr>\n",
       "      <th>0</th>\n",
       "      <td>140</td>\n",
       "    </tr>\n",
       "    <tr>\n",
       "      <th>1</th>\n",
       "      <td>140</td>\n",
       "    </tr>\n",
       "    <tr>\n",
       "      <th>2</th>\n",
       "      <td>142</td>\n",
       "    </tr>\n",
       "    <tr>\n",
       "      <th>3</th>\n",
       "      <td>140</td>\n",
       "    </tr>\n",
       "    <tr>\n",
       "      <th>4</th>\n",
       "      <td>140</td>\n",
       "    </tr>\n",
       "    <tr>\n",
       "      <th>...</th>\n",
       "      <td>...</td>\n",
       "    </tr>\n",
       "    <tr>\n",
       "      <th>6144285</th>\n",
       "      <td>31</td>\n",
       "    </tr>\n",
       "    <tr>\n",
       "      <th>6144286</th>\n",
       "      <td>31</td>\n",
       "    </tr>\n",
       "    <tr>\n",
       "      <th>6144287</th>\n",
       "      <td>38</td>\n",
       "    </tr>\n",
       "    <tr>\n",
       "      <th>6144288</th>\n",
       "      <td>38</td>\n",
       "    </tr>\n",
       "    <tr>\n",
       "      <th>6144289</th>\n",
       "      <td>38</td>\n",
       "    </tr>\n",
       "  </tbody>\n",
       "</table>\n",
       "<p>6144290 rows × 1 columns</p>\n",
       "</div>"
      ],
      "text/plain": [
       "         tokenized_length\n",
       "0                     140\n",
       "1                     140\n",
       "2                     142\n",
       "3                     140\n",
       "4                     140\n",
       "...                   ...\n",
       "6144285                31\n",
       "6144286                31\n",
       "6144287                38\n",
       "6144288                38\n",
       "6144289                38\n",
       "\n",
       "[6144290 rows x 1 columns]"
      ]
     },
     "execution_count": 22,
     "metadata": {},
     "output_type": "execute_result"
    }
   ],
   "source": [
    "comb_lens_df"
   ]
  },
  {
   "cell_type": "code",
   "execution_count": 23,
   "id": "toxic-aspect",
   "metadata": {},
   "outputs": [],
   "source": [
    "comb_rob_ds = my_caching_load_from_disk(Path('/home/cernypro/dev/source/ml4logs/data/interim/Combined_20210401_roberta/source_text_tokens_chunks_shuffled_seed-43_distilroberta-base/train'))"
   ]
  },
  {
   "cell_type": "code",
   "execution_count": 24,
   "id": "controlled-tunnel",
   "metadata": {},
   "outputs": [
    {
     "data": {
      "application/vnd.jupyter.widget-view+json": {
       "model_id": "73e1908e2d134e3287a8ef9d3fd19134",
       "version_major": 2,
       "version_minor": 0
      },
      "text/plain": [
       "HBox(children=(FloatProgress(value=0.0, max=615.0), HTML(value='')))"
      ]
     },
     "metadata": {},
     "output_type": "display_data"
    },
    {
     "name": "stdout",
     "output_type": "stream",
     "text": [
      "\n"
     ]
    }
   ],
   "source": [
    "comb_rob_tok_lens_ds = comb_rob_ds.map(lambda tokens_chunk: {'len': [len(tokens) for chunk in tokens_chunk for tokens in chunk]}, input_columns='chunk_tokens', remove_columns=['chunk_text', 'chunk_tokens'], batched=True)"
   ]
  },
  {
   "cell_type": "code",
   "execution_count": 25,
   "id": "trying-astronomy",
   "metadata": {},
   "outputs": [],
   "source": [
    "comb_rob_tok_lens = np.array(comb_rob_tok_lens_ds['len'])"
   ]
  },
  {
   "cell_type": "code",
   "execution_count": 52,
   "id": "gothic-malawi",
   "metadata": {},
   "outputs": [
    {
     "data": {
      "text/plain": [
       "512"
      ]
     },
     "execution_count": 52,
     "metadata": {},
     "output_type": "execute_result"
    }
   ],
   "source": [
    "np.max(comb_rob_tok_lens)"
   ]
  },
  {
   "cell_type": "code",
   "execution_count": 27,
   "id": "worse-estimate",
   "metadata": {},
   "outputs": [],
   "source": [
    "comb_rob_lens_df = pd.DataFrame({'tokenized_length': comb_rob_tok_lens})\n",
    "comb_rob_lens_df.to_csv('Combined20210401_roberta_tokenized_lengths.csv', index=False)"
   ]
  },
  {
   "cell_type": "code",
   "execution_count": 48,
   "id": "expensive-mumbai",
   "metadata": {},
   "outputs": [
    {
     "data": {
      "image/png": "[encoded data removed]",
      "text/plain": [
       "<Figure size 432x288 with 1 Axes>"
      ]
     },
     "metadata": {},
     "output_type": "display_data"
    }
   ],
   "source": [
    "fig, ax = plt.subplots()\n",
    "ax.hist(comb_rob_tok_lens, bins=33, density=True)\n",
    "ax.yaxis.set_major_formatter(mtick.PercentFormatter(1.0))\n",
    "ax.set_xlabel('Tokenized sentence length')\n",
    "tikzplotlib.save(\"CombinedRobertaTokenizedLengths.tikz\")"
   ]
  },
  {
   "cell_type": "code",
   "execution_count": null,
   "id": "confirmed-injection",
   "metadata": {},
   "outputs": [],
   "source": []
  }
 ],
 "metadata": {
  "kernelspec": {
   "display_name": "Python 3",
   "language": "python",
   "name": "python3"
  },
  "language_info": {
   "codemirror_mode": {
    "name": "ipython",
    "version": 3
   },
   "file_extension": ".py",
   "mimetype": "text/x-python",
   "name": "python",
   "nbconvert_exporter": "python",
   "pygments_lexer": "ipython3",
   "version": "3.7.4"
  }
 },
 "nbformat": 4,
 "nbformat_minor": 5
}
