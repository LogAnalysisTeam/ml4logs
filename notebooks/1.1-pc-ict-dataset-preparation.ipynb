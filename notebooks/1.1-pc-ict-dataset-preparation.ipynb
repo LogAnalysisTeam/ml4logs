{
 "cells": [
  {
   "cell_type": "markdown",
   "id": "leading-plain",
   "metadata": {},
   "source": [
    "# TODO: Needs massive cleanup, contains random experiments with code and library"
   ]
  },
  {
   "cell_type": "code",
   "execution_count": 88,
   "id": "global-belize",
   "metadata": {},
   "outputs": [],
   "source": [
    "from datasets import load_dataset\n",
    "import numpy as np\n",
    "from transformers import DistilBertTokenizerFast, AutoModel, Trainer, TrainingArguments\n",
    "import seaborn as sns\n",
    "from dataclasses import dataclass\n",
    "from typing import List, Union, Dict\n",
    "import torch\n",
    "from torch.utils.data import DataLoader\n",
    "import multiprocessing"
   ]
  },
  {
   "cell_type": "code",
   "execution_count": 2,
   "id": "athletic-affair",
   "metadata": {},
   "outputs": [
    {
     "name": "stderr",
     "output_type": "stream",
     "text": [
      "Using custom data configuration default-f7d20bad4b8d075b\n",
      "Reusing dataset text (/home/cernypro/.cache/huggingface/datasets/text/default-f7d20bad4b8d075b/0.0.0/44d63bd03e7e554f16131765a251f2d8333a5fe8a73f6ea3de012dbc49443691)\n"
     ]
    }
   ],
   "source": [
    "hdfs1_dataset = load_dataset('text', data_files='../data/raw/HDFS1/HDFS.log', split='train')"
   ]
  },
  {
   "cell_type": "code",
   "execution_count": 3,
   "id": "retired-voice",
   "metadata": {},
   "outputs": [
    {
     "name": "stderr",
     "output_type": "stream",
     "text": [
      "Loading cached processed dataset at /home/cernypro/.cache/huggingface/datasets/text/default-f7d20bad4b8d075b/0.0.0/44d63bd03e7e554f16131765a251f2d8333a5fe8a73f6ea3de012dbc49443691/cache-3f531662155381a4.arrow\n"
     ]
    }
   ],
   "source": [
    "def remove_timestamp(example):\n",
    "    # need to find third occurence of a space and slice the string after it\n",
    "    # using a very non robust silly solution\n",
    "    s = example['text']\n",
    "    example['text'] = s[s.find(' ', s.find(' ', s.find(' ')+1)+1)+1:]\n",
    "    return example\n",
    "\n",
    "cleaned_dataset = hdfs1_dataset.map(remove_timestamp)"
   ]
  },
  {
   "cell_type": "code",
   "execution_count": 4,
   "id": "elect-violence",
   "metadata": {},
   "outputs": [
    {
     "data": {
      "text/plain": [
       "11175629"
      ]
     },
     "execution_count": 4,
     "metadata": {},
     "output_type": "execute_result"
    }
   ],
   "source": [
    "len(cleaned_dataset)"
   ]
  },
  {
   "cell_type": "code",
   "execution_count": 5,
   "id": "secondary-better",
   "metadata": {},
   "outputs": [],
   "source": [
    "pretrained_model_name = \"distilbert-base-cased\"\n",
    "tokenizer = DistilBertTokenizerFast.from_pretrained(pretrained_model_name)"
   ]
  },
  {
   "cell_type": "code",
   "execution_count": 66,
   "id": "twelve-sarah",
   "metadata": {},
   "outputs": [],
   "source": [
    "small_cleaned_dataset = cleaned_dataset.select(range(200000))"
   ]
  },
  {
   "cell_type": "code",
   "execution_count": 67,
   "id": "interracial-douglas",
   "metadata": {},
   "outputs": [],
   "source": [
    "def tokenize_dontpad_dataset(examples, tokenizer):\n",
    "    return tokenizer(examples['text'], truncation=True, return_special_tokens_mask=True)\n",
    "# tokenized_unpadded_dataset = cleaned_dataset.map(tokenize_dontpad_dataset, fn_kwargs={'tokenizer': tokenizer}, batched=True, batch_size=1000, remove_columns=['text'])"
   ]
  },
  {
   "cell_type": "code",
   "execution_count": 68,
   "id": "celtic-straight",
   "metadata": {},
   "outputs": [
    {
     "data": {
      "application/vnd.jupyter.widget-view+json": {
       "model_id": "10d86bd7c17c4b299cd290ba0cb5d41f",
       "version_major": 2,
       "version_minor": 0
      },
      "text/plain": [
       "HBox(children=(FloatProgress(value=0.0, max=200.0), HTML(value='')))"
      ]
     },
     "metadata": {},
     "output_type": "display_data"
    },
    {
     "name": "stdout",
     "output_type": "stream",
     "text": [
      "\n"
     ]
    }
   ],
   "source": [
    "def tokenize_no_special_tokens(examples, tokenizer):\n",
    "    return {'tokens': tokenizer(examples['text'], add_special_tokens=False, truncation=True, return_attention_mask=False)['input_ids']}\n",
    "small_tokenized = small_cleaned_dataset.map(tokenize_no_special_tokens, fn_kwargs={'tokenizer': tokenizer}, batched=True, batch_size=1000)"
   ]
  },
  {
   "cell_type": "code",
   "execution_count": 69,
   "id": "uniform-europe",
   "metadata": {},
   "outputs": [
    {
     "name": "stdout",
     "output_type": "stream",
     "text": [
      "\n",
      "\n",
      "\n",
      "\n"
     ]
    }
   ],
   "source": [
    "def chunkify(examples):\n",
    "    return {\"chunk\": [examples['tokens']]}\n",
    "chunked = small_tokenized.map(chunkify, batched=True, batch_size=10, drop_last_batch=True, remove_columns=small_tokenized.column_names, num_proc=4)"
   ]
  },
  {
   "cell_type": "code",
   "execution_count": 70,
   "id": "compressed-columbia",
   "metadata": {},
   "outputs": [
    {
     "data": {
      "text/plain": [
       "Dataset({\n",
       "    features: ['chunk'],\n",
       "    num_rows: 20000\n",
       "})"
      ]
     },
     "execution_count": 70,
     "metadata": {},
     "output_type": "execute_result"
    }
   ],
   "source": [
    "chunked"
   ]
  },
  {
   "cell_type": "code",
   "execution_count": 71,
   "id": "abstract-chick",
   "metadata": {},
   "outputs": [],
   "source": [
    "@dataclass\n",
    "class DataCollatorForInverseClozeTaskOrig:\n",
    "    \"\"\"\n",
    "    Data Collator to be used with datasets containing contexts (List of senteces, where sentence is a list of tokens, e.g a context is a List of Lists of ints)\n",
    "    It randomly selects a sentence from each context to serve as a target, and flattens the contexts (with the target sentence randomly removed) into a single sentence to serve as a flat context\n",
    "    If using huggingface datasets, expects a column named 'chunk'\n",
    "    NOTE: This collator is quite slow, if the dataset is really large, consider pre-collating it in advance and saving it, so that the collator can then be as simple as possible\n",
    "        (example of how slow it is, when resuming almost finished training on a dataset of 800k contexts (each containing 10 lines, eg 8M lines in total)\n",
    "        using batches of size 64, resuming training took over 5 hours on 4 cores, because all the intermediate batches were created by the dataloader and collated by this collater\n",
    "        until the Trainer (huggingface) reached the saved step in the checkpoint)\n",
    "    \"\"\"\n",
    "    remove_target_from_context_probability: float = 0.9\n",
    "    target_max_seq:int = 512\n",
    "    context_max_seq:int = 512\n",
    "    start_token:int = 101 # [CLS]\n",
    "    sep_token:int = 102 # [SEP]\n",
    "    pad_token:int = 0\n",
    "        \n",
    "    def _make_mask(self, padded_batch):\n",
    "        return (padded_batch != self.pad_token).astype(np.uint8)\n",
    "        \n",
    "    def _pad_truncate_add_special_tokens(self, batch: List[List[int]], max_len): \n",
    "        sequence_lengths = np.array([min(max_len-2, len(seq)) for seq in batch])\n",
    "        batch_max_len = sequence_lengths.max()\n",
    "        padded_batch = np.full(shape=(len(batch), batch_max_len+2), fill_value=self.pad_token, dtype=np.int64)\n",
    "        padded_batch[:, 0] = self.start_token\n",
    "        for seq_idx, seq in enumerate(batch):\n",
    "            padded_batch[seq_idx, 1:sequence_lengths[seq_idx]+1] = seq[:sequence_lengths[seq_idx]]\n",
    "            padded_batch[seq_idx, sequence_lengths[seq_idx]+1] = self.sep_token\n",
    "        mask = self._make_mask(padded_batch)\n",
    "        return torch.from_numpy(padded_batch), torch.from_numpy(mask)\n",
    "    \n",
    "    def _create_target_and_flat_contexts_from_contexts(self, contexts: List[List[List[int]]]):\n",
    "        # TODO: add sep_token between each sentence when flattening context?\n",
    "        target_sentence_idxs = [torch.randint(low=0, high=len(context), size=(1,)).item() for context in contexts]\n",
    "        remove_target = [torch.rand(size=(1,)).item() < self.remove_target_from_context_probability for _ in target_sentence_idxs]\n",
    "        target_sentences = [context[i] for (i, context) in zip(target_sentence_idxs, contexts)]\n",
    "        processed_contexts = [context[:target_idx] + context[target_idx + remove:] for (target_idx, remove, context) in zip(target_sentence_idxs, remove_target, contexts)]\n",
    "        flattened_contexts = [[token for sentence in context for token in sentence] for context in processed_contexts]\n",
    "        return target_sentences, flattened_contexts\n",
    "             \n",
    "    def __call__(self, contexts: List[Union[List[List[int]], Dict[str, List[List[int]]]]]):\n",
    "        if isinstance(contexts[0], dict):\n",
    "            contexts = [context_dict['chunk'] for context_dict in contexts]\n",
    "        target_sentences, flattened_contexts = self._create_target_and_flat_contexts_from_contexts(contexts)\n",
    "        correct_class = torch.tensor(list(range(len(target_sentences))), dtype=torch.int64)\n",
    "        padded_target_batch, padded_target_mask = self._pad_truncate_add_special_tokens(target_sentences, self.target_max_seq)\n",
    "        padded_context_batch, padded_context_mask = self._pad_truncate_add_special_tokens(flattened_contexts, self.context_max_seq)\n",
    "        return {'target': padded_target_batch,\n",
    "                'target_mask': padded_target_mask,\n",
    "                'context': padded_context_batch,\n",
    "                'context_mask': padded_context_mask,\n",
    "                'correct_class': correct_class}"
   ]
  },
  {
   "cell_type": "code",
   "execution_count": 72,
   "id": "spoken-visitor",
   "metadata": {},
   "outputs": [],
   "source": [
    "@dataclass\n",
    "class DataCollatorForInverseClozeTask:\n",
    "    \"\"\"\n",
    "    Data Collator to be used with datasets containing contexts (List of senteces, where sentence is a list of tokens, e.g a context is a List of Lists of ints)\n",
    "    It randomly selects a sentence from each context to serve as a target, and flattens the contexts (with the target sentence randomly removed) into a single sentence to serve as a flat context\n",
    "    If using huggingface datasets, expects a column named 'chunk'\n",
    "    NOTE: This collator is quite slow, if the dataset is really large, consider pre-collating it in advance and saving it, so that the collator can then be as simple as possible\n",
    "        (example of how slow it is, when resuming almost finished training on a dataset of 800k contexts (each containing 10 lines, eg 8M lines in total)\n",
    "        using batches of size 64, resuming training took over 5 hours on 4 cores, because all the intermediate batches were created by the dataloader and collated by this collater\n",
    "        until the Trainer (huggingface) reached the saved step in the checkpoint)\n",
    "    \"\"\"\n",
    "    remove_target_from_context_probability: float = 0.9\n",
    "    target_max_seq:int = 512\n",
    "    context_max_seq:int = 512\n",
    "    start_token:int = 101 # [CLS]\n",
    "    sep_token:int = 102 # [SEP]\n",
    "    pad_token:int = 0\n",
    "    all_contexts_same_length: bool = False\n",
    "        \n",
    "    def _make_mask(self, padded_batch):\n",
    "        return (padded_batch != self.pad_token).astype(np.uint8)\n",
    "        \n",
    "    def _pad_truncate_add_special_tokens(self, batch: List[List[int]], max_len): \n",
    "        sequence_lengths = np.array([min(max_len-2, len(seq)) for seq in batch])\n",
    "        batch_max_len = sequence_lengths.max()\n",
    "        padded_batch = np.full(shape=(len(batch), batch_max_len+2), fill_value=self.pad_token, dtype=np.int64)\n",
    "        padded_batch[:, 0] = self.start_token\n",
    "        for seq_idx, seq in enumerate(batch):\n",
    "            padded_batch[seq_idx, 1:sequence_lengths[seq_idx]+1] = seq[:sequence_lengths[seq_idx]]\n",
    "            padded_batch[seq_idx, sequence_lengths[seq_idx]+1] = self.sep_token\n",
    "        mask = self._make_mask(padded_batch)\n",
    "        return torch.from_numpy(padded_batch), torch.from_numpy(mask)\n",
    "    \n",
    "    def _get_target_sentence_idxs(self, contexts):\n",
    "        if self.all_contexts_same_length:\n",
    "            all_contexts_len = len(contexts[0])\n",
    "            return torch.randint(low=0, high=all_contexts_len, size=(len(contexts),))\n",
    "        else:\n",
    "            return [torch.randint(low=0, high=len(context), size=(1,)).item() for context in contexts]\n",
    "    \n",
    "    def _create_target_and_flat_contexts_from_contexts(self, contexts: List[List[List[int]]]):\n",
    "        # TODO: add sep_token between each sentence when flattening context?\n",
    "        target_sentence_idxs = self._get_target_sentence_idxs(contexts)\n",
    "        remove_target = torch.bernoulli(torch.full(size=(len(target_sentence_idxs),), fill_value=self.remove_target_from_context_probability)).to(torch.bool)\n",
    "        target_sentences = [context[i] for (i, context) in zip(target_sentence_idxs, contexts)]\n",
    "        processed_contexts = [context[:target_idx] + context[target_idx + remove:] for (target_idx, remove, context) in zip(target_sentence_idxs, remove_target, contexts)]\n",
    "        flattened_contexts = [[token for sentence in context for token in sentence] for context in processed_contexts]\n",
    "        return target_sentences, flattened_contexts\n",
    "             \n",
    "    def __call__(self, contexts: List[Union[List[List[int]], Dict[str, List[List[int]]]]]):\n",
    "        if isinstance(contexts[0], dict):\n",
    "            contexts = [context_dict['chunk'] for context_dict in contexts]\n",
    "        target_sentences, flattened_contexts = self._create_target_and_flat_contexts_from_contexts(contexts)\n",
    "        correct_class = torch.arange(len(target_sentences), dtype=torch.int64)\n",
    "        padded_target_batch, padded_target_mask = self._pad_truncate_add_special_tokens(target_sentences, self.target_max_seq)\n",
    "        padded_context_batch, padded_context_mask = self._pad_truncate_add_special_tokens(flattened_contexts, self.context_max_seq)\n",
    "        return {'target': padded_target_batch,\n",
    "                'target_mask': padded_target_mask,\n",
    "                'context': padded_context_batch,\n",
    "                'context_mask': padded_context_mask,\n",
    "                'correct_class': correct_class}\n",
    "    "
   ]
  },
  {
   "cell_type": "code",
   "execution_count": 84,
   "id": "adjacent-shoulder",
   "metadata": {},
   "outputs": [],
   "source": [
    "torch.manual_seed(43)\n",
    "new_col = DataCollatorForInverseClozeTask(all_contexts_same_length=True)\n",
    "old_col = DataCollatorForInverseClozeTaskOrig()\n",
    "new_dataloader = DataLoader(chunked, batch_size=16, collate_fn=new_col)\n",
    "old_dataloader = DataLoader(chunked, batch_size=16, collate_fn=old_col)"
   ]
  },
  {
   "cell_type": "code",
   "execution_count": 85,
   "id": "first-suspect",
   "metadata": {},
   "outputs": [
    {
     "name": "stdout",
     "output_type": "stream",
     "text": [
      "13 s ± 52 ms per loop (mean ± std. dev. of 7 runs, 1 loop each)\n"
     ]
    }
   ],
   "source": [
    "%%timeit\n",
    "for _ in new_dataloader:\n",
    "    pass"
   ]
  },
  {
   "cell_type": "code",
   "execution_count": 86,
   "id": "respiratory-imperial",
   "metadata": {},
   "outputs": [
    {
     "data": {
      "text/plain": [
       "<torch._C.Generator at 0x7fcd2939c150>"
      ]
     },
     "execution_count": 86,
     "metadata": {},
     "output_type": "execute_result"
    }
   ],
   "source": [
    "torch.manual_seed(43)"
   ]
  },
  {
   "cell_type": "code",
   "execution_count": 87,
   "id": "defensive-object",
   "metadata": {},
   "outputs": [
    {
     "name": "stdout",
     "output_type": "stream",
     "text": [
      "12.8 s ± 77.1 ms per loop (mean ± std. dev. of 7 runs, 1 loop each)\n"
     ]
    }
   ],
   "source": [
    "%%timeit\n",
    "for _ in old_dataloader:\n",
    "    pass"
   ]
  },
  {
   "cell_type": "code",
   "execution_count": 96,
   "id": "surprising-diameter",
   "metadata": {},
   "outputs": [
    {
     "name": "stdout",
     "output_type": "stream",
     "text": [
      "<_MainProcess(MainProcess, started)>\n"
     ]
    },
    {
     "name": "stderr",
     "output_type": "stream",
     "text": [
      "Loading cached processed dataset at /home/cernypro/.cache/huggingface/datasets/text/default-f7d20bad4b8d075b/0.0.0/44d63bd03e7e554f16131765a251f2d8333a5fe8a73f6ea3de012dbc49443691/cache-d994e89e065a9913.arrow\n",
      "Loading cached processed dataset at /home/cernypro/.cache/huggingface/datasets/text/default-f7d20bad4b8d075b/0.0.0/44d63bd03e7e554f16131765a251f2d8333a5fe8a73f6ea3de012dbc49443691/cache-01988c2bed2b0797.arrow\n",
      "Loading cached processed dataset at /home/cernypro/.cache/huggingface/datasets/text/default-f7d20bad4b8d075b/0.0.0/44d63bd03e7e554f16131765a251f2d8333a5fe8a73f6ea3de012dbc49443691/cache-0ebb302ab7390d01.arrow\n",
      "Loading cached processed dataset at /home/cernypro/.cache/huggingface/datasets/text/default-f7d20bad4b8d075b/0.0.0/44d63bd03e7e554f16131765a251f2d8333a5fe8a73f6ea3de012dbc49443691/cache-d5cfbbb7e2fa38de.arrow\n"
     ]
    },
    {
     "data": {
      "text/plain": [
       "Dataset({\n",
       "    features: ['chunk'],\n",
       "    num_rows: 20000\n",
       "})"
      ]
     },
     "execution_count": 96,
     "metadata": {},
     "output_type": "execute_result"
    }
   ],
   "source": [
    "def identity_printer(examples):\n",
    "    print(multiprocessing.current_process())\n",
    "    return examples\n",
    "\n",
    "chunked.map(identity_printer, num_proc=4, batched=True, batch_size=2000)"
   ]
  },
  {
   "cell_type": "code",
   "execution_count": 51,
   "id": "finnish-disability",
   "metadata": {},
   "outputs": [
    {
     "data": {
      "text/plain": [
       "tensor([8, 8, 5, 7, 5])"
      ]
     },
     "execution_count": 51,
     "metadata": {},
     "output_type": "execute_result"
    }
   ],
   "source": [
    "torch.manual_seed(43)\n",
    "torch.randint(low=0, high=10, size=(5,))"
   ]
  },
  {
   "cell_type": "code",
   "execution_count": 40,
   "id": "shaped-stations",
   "metadata": {},
   "outputs": [
    {
     "data": {
      "text/plain": [
       "[1, 1, 0, 1, 1]"
      ]
     },
     "execution_count": 40,
     "metadata": {},
     "output_type": "execute_result"
    }
   ],
   "source": [
    "torch.manual_seed(43)\n",
    "[int(torch.rand(size=(1,)).item() < 0.9) for _ in range(5)]"
   ]
  },
  {
   "cell_type": "code",
   "execution_count": 50,
   "id": "finnish-knock",
   "metadata": {},
   "outputs": [
    {
     "data": {
      "text/plain": [
       "tensor(True)"
      ]
     },
     "execution_count": 50,
     "metadata": {},
     "output_type": "execute_result"
    }
   ],
   "source": [
    "torch.manual_seed(43)\n",
    "torch.bernoulli(torch.full((5,), 0.9)).to(torch.bool)[0]"
   ]
  },
  {
   "cell_type": "code",
   "execution_count": 26,
   "id": "deluxe-browse",
   "metadata": {},
   "outputs": [
    {
     "data": {
      "text/plain": [
       "tensor([0, 1, 2, 3, 4])"
      ]
     },
     "execution_count": 26,
     "metadata": {},
     "output_type": "execute_result"
    }
   ],
   "source": [
    "torch.arange(5, dtype=torch.int64)"
   ]
  },
  {
   "cell_type": "code",
   "execution_count": null,
   "id": "chubby-passport",
   "metadata": {},
   "outputs": [],
   "source": []
  },
  {
   "cell_type": "code",
   "execution_count": 15,
   "id": "concrete-shaft",
   "metadata": {},
   "outputs": [],
   "source": [
    "class ClsEncoderTower(torch.nn.Module):\n",
    "    def __init__(self, pretrained_model_name_or_path, output_encode_dimension=512):\n",
    "        super(ClsEncoderTower, self).__init__()\n",
    "        self.bert = AutoModel.from_pretrained(pretrained_model_name_or_path)\n",
    "        self.linear = torch.nn.Linear(self.bert.config.dim, output_encode_dimension) # self.bert.config.dim most likely 768\n",
    "        \n",
    "    def forward(self, input_ids, attention_mask):\n",
    "        bert_output = self.bert(input_ids=input_ids, attention_mask=attention_mask)\n",
    "        cls_token_embedding = bert_output[0][:, 0]\n",
    "        cls_encoding = self.linear(cls_token_embedding)\n",
    "        return cls_encoding\n",
    "        \n",
    "    "
   ]
  },
  {
   "cell_type": "code",
   "execution_count": 16,
   "id": "seasonal-smile",
   "metadata": {},
   "outputs": [],
   "source": [
    "class OneTowerICT(torch.nn.Module):\n",
    "    def __init__(self, pretrained_model_name_or_path, output_encode_dimension=512):\n",
    "        super(OneTowerICT, self).__init__()\n",
    "        self.tower = ClsEncoderTower(pretrained_model_name_or_path, output_encode_dimension)\n",
    "        self.loss_fn = torch.nn.CrossEntropyLoss()\n",
    "    def forward(self, target, target_mask, context, context_mask, correct_class):\n",
    "        target_cls_encode = self.tower(input_ids=target, attention_mask=target_mask)\n",
    "        context_cls_encode = self.tower(input_ids=context, attention_mask=context_mask)\n",
    "        \n",
    "        logits = torch.matmul(target_cls_encode, context_cls_encode.transpose(-2, -1))\n",
    "        loss = self.loss_fn(logits, correct_class)\n",
    "        return loss, target_cls_encode, context_cls_encode"
   ]
  },
  {
   "cell_type": "code",
   "execution_count": 19,
   "id": "alive-tomato",
   "metadata": {},
   "outputs": [],
   "source": [
    "class TwoTowerICT(torch.nn.Module):\n",
    "    def __init__(self, target_tower_pretrained_model_name_or_path, context_tower_pretrained_model_name_or_path=None, output_encode_dimension=512):\n",
    "        super(TwoTowerICT, self).__init__()\n",
    "        assert target_tower_pretrained_model_name_or_path is not None, \"Target tower pretrained model must me specified!\"\n",
    "        if context_tower_pretrained_model_name_or_path is None:\n",
    "            context_tower_pretrained_model_name_or_path = target_tower_pretrained_model_name_or_path\n",
    "        self.target_encoder = ClsEncoderTower(target_tower_pretrained_model_name_or_path, output_encode_dimension)\n",
    "        self.context_encoder = ClsEncoderTower(context_tower_pretrained_model_name_or_path, output_encode_dimension)\n",
    "        self.loss_fn = torch.nn.CrossEntropyLoss()\n",
    "    \n",
    "    def forward(self, target, target_mask, context, context_mask, correct_class):\n",
    "        target_cls_encode = self.target_encoder(input_ids=target, attention_mask=target_mask)\n",
    "        context_cls_encode = self.context_encoder(input_ids=context, attention_mask=context_mask)\n",
    "        \n",
    "        logits = torch.matmul(target_cls_encode, context_cls_encode.transpose(-2, -1))\n",
    "        loss = self.loss_fn(logits, correct_class)\n",
    "        return loss, target_cls_encode, context_cls_encode\n",
    "        "
   ]
  },
  {
   "cell_type": "code",
   "execution_count": 20,
   "id": "approved-destination",
   "metadata": {},
   "outputs": [],
   "source": [
    "model = TwoTowerICT(pretrained_model_name)\n",
    "device = torch.device(\"cuda:0\" if torch.cuda.is_available() else \"cpu\")\n",
    "model = model.to(device)"
   ]
  },
  {
   "cell_type": "code",
   "execution_count": 23,
   "id": "treated-testing",
   "metadata": {},
   "outputs": [
    {
     "name": "stderr",
     "output_type": "stream",
     "text": [
      "Loading cached split indices for dataset at /home/cernypro/.cache/huggingface/datasets/text/default-f7d20bad4b8d075b/0.0.0/44d63bd03e7e554f16131765a251f2d8333a5fe8a73f6ea3de012dbc49443691/cache-5e8ebae16cf9f389.arrow and /home/cernypro/.cache/huggingface/datasets/text/default-f7d20bad4b8d075b/0.0.0/44d63bd03e7e554f16131765a251f2d8333a5fe8a73f6ea3de012dbc49443691/cache-42be9c3ea68c8082.arrow\n"
     ]
    }
   ],
   "source": [
    "SEED=0\n",
    "RUN_NAME=\"ICT DEBUG - Two Towers 1\"\n",
    "train_test_dataset = chunked.train_test_split(test_size=256, shuffle=True, seed=SEED)"
   ]
  },
  {
   "cell_type": "code",
   "execution_count": 24,
   "id": "supreme-greenhouse",
   "metadata": {},
   "outputs": [],
   "source": [
    "data_collator = DataCollatorForInverseClozeTask()"
   ]
  },
  {
   "cell_type": "code",
   "execution_count": 25,
   "id": "excess-feedback",
   "metadata": {},
   "outputs": [],
   "source": [
    "training_args = TrainingArguments(output_dir=f\"../models/{RUN_NAME.replace(' ', '_')}\",\n",
    "                                      num_train_epochs=5,\n",
    "                                      per_device_eval_batch_size=64, \n",
    "                                      per_device_train_batch_size=64,\n",
    "                                      warmup_steps=10,                # number of warmup steps for learning rate scheduler\n",
    "                                      weight_decay=0.01,               # strength of weight decay\n",
    "                                      logging_dir='../logs',            # directory for storing logs\n",
    "                                      logging_steps=10,\n",
    "                                      logging_first_step=True,\n",
    "                                      eval_steps=20,\n",
    "                                      evaluation_strategy='steps',\n",
    "                                      prediction_loss_only=True,\n",
    "                                      save_steps=100,\n",
    "                                      save_total_limit=15,\n",
    "                                      label_names=['target', 'context'],\n",
    "                                      seed=SEED,\n",
    "                                      run_name=RUN_NAME,\n",
    "                                      remove_unused_columns=False)\n",
    "\n",
    "trainer = Trainer(model=model,\n",
    "                      args=training_args,\n",
    "                      data_collator=data_collator,\n",
    "                      train_dataset=train_test_dataset['train'],\n",
    "                      eval_dataset=train_test_dataset['test']\n",
    "                      )"
   ]
  },
  {
   "cell_type": "code",
   "execution_count": 26,
   "id": "overall-penalty",
   "metadata": {},
   "outputs": [
    {
     "data": {
      "text/plain": [
       "<torch._C.Generator at 0x7fb6921da150>"
      ]
     },
     "execution_count": 26,
     "metadata": {},
     "output_type": "execute_result"
    }
   ],
   "source": [
    "torch.manual_seed(SEED)"
   ]
  },
  {
   "cell_type": "code",
   "execution_count": 27,
   "id": "minimal-insulation",
   "metadata": {},
   "outputs": [
    {
     "name": "stderr",
     "output_type": "stream",
     "text": [
      "\u001b[34m\u001b[1mwandb\u001b[0m: Currently logged in as: \u001b[33mprokopcerny\u001b[0m (use `wandb login --relogin` to force relogin)\n",
      "\u001b[34m\u001b[1mwandb\u001b[0m: wandb version 0.10.21 is available!  To upgrade, please run:\n",
      "\u001b[34m\u001b[1mwandb\u001b[0m:  $ pip install wandb --upgrade\n"
     ]
    },
    {
     "data": {
      "text/html": [
       "\n",
       "                Tracking run with wandb version 0.10.19<br/>\n",
       "                Syncing run <strong style=\"color:#cdcd00\">ICT DEBUG - Two Towers 1</strong> to <a href=\"https://wandb.ai\" target=\"_blank\">Weights & Biases</a> <a href=\"https://docs.wandb.com/integrations/jupyter.html\" target=\"_blank\">(Documentation)</a>.<br/>\n",
       "                Project page: <a href=\"https://wandb.ai/prokopcerny/huggingface\" target=\"_blank\">https://wandb.ai/prokopcerny/huggingface</a><br/>\n",
       "                Run page: <a href=\"https://wandb.ai/prokopcerny/huggingface/runs/2ny09mmg\" target=\"_blank\">https://wandb.ai/prokopcerny/huggingface/runs/2ny09mmg</a><br/>\n",
       "                Run data is saved locally in <code>/home/cernypro/dev/source/ml4logs/notebooks/wandb/run-20210304_125520-2ny09mmg</code><br/><br/>\n",
       "            "
      ],
      "text/plain": [
       "<IPython.core.display.HTML object>"
      ]
     },
     "metadata": {},
     "output_type": "display_data"
    },
    {
     "data": {
      "text/html": [
       "\n",
       "    <div>\n",
       "        <style>\n",
       "            /* Turns off some styling */\n",
       "            progress {\n",
       "                /* gets rid of default border in Firefox and Opera. */\n",
       "                border: none;\n",
       "                /* Needs to be in here for Safari polyfill so background images work as expected. */\n",
       "                background-size: auto;\n",
       "            }\n",
       "        </style>\n",
       "      \n",
       "      <progress value='140' max='140' style='width:300px; height:20px; vertical-align: middle;'></progress>\n",
       "      [140/140 02:53, Epoch 5/5]\n",
       "    </div>\n",
       "    <table border=\"1\" class=\"dataframe\">\n",
       "  <thead>\n",
       "    <tr style=\"text-align: left;\">\n",
       "      <th>Step</th>\n",
       "      <th>Training Loss</th>\n",
       "      <th>Validation Loss</th>\n",
       "      <th>Runtime</th>\n",
       "      <th>Samples Per Second</th>\n",
       "    </tr>\n",
       "  </thead>\n",
       "  <tbody>\n",
       "    <tr>\n",
       "      <td>20</td>\n",
       "      <td>3.525900</td>\n",
       "      <td>3.474082</td>\n",
       "      <td>1.434300</td>\n",
       "      <td>178.489000</td>\n",
       "    </tr>\n",
       "    <tr>\n",
       "      <td>40</td>\n",
       "      <td>3.365100</td>\n",
       "      <td>3.346828</td>\n",
       "      <td>1.448000</td>\n",
       "      <td>176.791000</td>\n",
       "    </tr>\n",
       "    <tr>\n",
       "      <td>60</td>\n",
       "      <td>3.163100</td>\n",
       "      <td>3.354304</td>\n",
       "      <td>1.451100</td>\n",
       "      <td>176.416000</td>\n",
       "    </tr>\n",
       "    <tr>\n",
       "      <td>80</td>\n",
       "      <td>3.346800</td>\n",
       "      <td>3.367447</td>\n",
       "      <td>1.463600</td>\n",
       "      <td>174.906000</td>\n",
       "    </tr>\n",
       "    <tr>\n",
       "      <td>100</td>\n",
       "      <td>3.290700</td>\n",
       "      <td>3.209431</td>\n",
       "      <td>1.462000</td>\n",
       "      <td>175.098000</td>\n",
       "    </tr>\n",
       "    <tr>\n",
       "      <td>120</td>\n",
       "      <td>3.101400</td>\n",
       "      <td>3.205889</td>\n",
       "      <td>1.468300</td>\n",
       "      <td>174.349000</td>\n",
       "    </tr>\n",
       "    <tr>\n",
       "      <td>140</td>\n",
       "      <td>3.123900</td>\n",
       "      <td>3.287006</td>\n",
       "      <td>1.476700</td>\n",
       "      <td>173.360000</td>\n",
       "    </tr>\n",
       "  </tbody>\n",
       "</table><p>"
      ],
      "text/plain": [
       "<IPython.core.display.HTML object>"
      ]
     },
     "metadata": {},
     "output_type": "display_data"
    },
    {
     "data": {
      "text/plain": [
       "TrainOutput(global_step=140, training_loss=3.3440962553024294, metrics={'train_runtime': 177.2968, 'train_samples_per_second': 0.79, 'total_flos': 0, 'epoch': 5.0})"
      ]
     },
     "execution_count": 27,
     "metadata": {},
     "output_type": "execute_result"
    }
   ],
   "source": [
    "trainer.train()"
   ]
  },
  {
   "cell_type": "code",
   "execution_count": 19,
   "id": "handy-complement",
   "metadata": {},
   "outputs": [],
   "source": [
    "trainer.save_model()"
   ]
  },
  {
   "cell_type": "code",
   "execution_count": 34,
   "id": "trying-faculty",
   "metadata": {},
   "outputs": [
    {
     "name": "stderr",
     "output_type": "stream",
     "text": [
      "\u001b[34m\u001b[1mwandb\u001b[0m: \u001b[33mWARNING\u001b[0m Step must only increase in log calls.  Step 0 < 246; dropping {'eval/loss': 4.083710193634033, 'eval/runtime': 7.9367, 'eval/samples_per_second': 193.783}.\n"
     ]
    },
    {
     "data": {
      "text/plain": [
       "{'eval_loss': 4.083710193634033,\n",
       " 'eval_runtime': 7.9367,\n",
       " 'eval_samples_per_second': 193.783}"
      ]
     },
     "execution_count": 34,
     "metadata": {},
     "output_type": "execute_result"
    }
   ],
   "source": [
    "trainer.evaluate(train_test_dataset['train'])"
   ]
  },
  {
   "cell_type": "code",
   "execution_count": 6,
   "id": "protecting-consciousness",
   "metadata": {},
   "outputs": [
    {
     "name": "stderr",
     "output_type": "stream",
     "text": [
      "Loading cached processed dataset at /home/cernypro/.cache/huggingface/datasets/text/default-3571b23bb2152210/0.0.0/44d63bd03e7e554f16131765a251f2d8333a5fe8a73f6ea3de012dbc49443691/cache-5b3337e81c3dc2cb.arrow\n"
     ]
    }
   ],
   "source": [
    "def get_lenghts(example):\n",
    "    return {'length': len(example['input_ids'])}\n",
    "lenghts = tokenized_unpadded_dataset.map(get_lenghts, remove_columns=tokenized_unpadded_dataset.column_names)"
   ]
  },
  {
   "cell_type": "code",
   "execution_count": 15,
   "id": "nonprofit-victoria",
   "metadata": {},
   "outputs": [
    {
     "data": {
      "text/plain": [
       "60.6453264509765"
      ]
     },
     "execution_count": 15,
     "metadata": {},
     "output_type": "execute_result"
    }
   ],
   "source": [
    "mean = np.mean(lenghts['length'])\n",
    "mean"
   ]
  },
  {
   "cell_type": "code",
   "execution_count": 8,
   "id": "upper-format",
   "metadata": {},
   "outputs": [
    {
     "data": {
      "text/plain": [
       "<AxesSubplot:ylabel='Density'>"
      ]
     },
     "execution_count": 8,
     "metadata": {},
     "output_type": "execute_result"
    },
    {
     "data": {
      "image/png": "[encoded data removed]",
      "text/plain": [
       "<Figure size 432x288 with 1 Axes>"
      ]
     },
     "metadata": {
      "needs_background": "light"
     },
     "output_type": "display_data"
    }
   ],
   "source": [
    "sns.kdeplot(lenghts['length'])"
   ]
  }
 ],
 "metadata": {
  "kernelspec": {
   "display_name": "Python 3",
   "language": "python",
   "name": "python3"
  },
  "language_info": {
   "codemirror_mode": {
    "name": "ipython",
    "version": 3
   },
   "file_extension": ".py",
   "mimetype": "text/x-python",
   "name": "python",
   "nbconvert_exporter": "python",
   "pygments_lexer": "ipython3",
   "version": "3.7.4"
  }
 },
 "nbformat": 4,
 "nbformat_minor": 5
}
