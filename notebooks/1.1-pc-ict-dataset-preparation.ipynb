{
 "cells": [
  {
   "cell_type": "code",
   "execution_count": 1,
   "id": "better-wheat",
   "metadata": {},
   "outputs": [],
   "source": [
    "from datasets import load_dataset\n",
    "import numpy as np\n",
    "from transformers import DistilBertTokenizerFast, AutoModel, Trainer, TrainingArguments\n",
    "import seaborn as sns\n",
    "from dataclasses import dataclass\n",
    "from typing import List, Union, Dict\n",
    "import torch"
   ]
  },
  {
   "cell_type": "code",
   "execution_count": 2,
   "id": "clean-budget",
   "metadata": {},
   "outputs": [
    {
     "name": "stderr",
     "output_type": "stream",
     "text": [
      "Using custom data configuration default-3571b23bb2152210\n",
      "Reusing dataset text (/home/cernypro/.cache/huggingface/datasets/text/default-3571b23bb2152210/0.0.0/44d63bd03e7e554f16131765a251f2d8333a5fe8a73f6ea3de012dbc49443691)\n"
     ]
    }
   ],
   "source": [
    "hdfs1_dataset = load_dataset('text', data_files='../data/raw/HDFS1/HDFS.log', split='train')"
   ]
  },
  {
   "cell_type": "code",
   "execution_count": 3,
   "id": "alleged-million",
   "metadata": {},
   "outputs": [
    {
     "name": "stderr",
     "output_type": "stream",
     "text": [
      "Loading cached processed dataset at /home/cernypro/.cache/huggingface/datasets/text/default-3571b23bb2152210/0.0.0/44d63bd03e7e554f16131765a251f2d8333a5fe8a73f6ea3de012dbc49443691/cache-15d3de4e024d5591.arrow\n"
     ]
    }
   ],
   "source": [
    "def remove_timestamp(example):\n",
    "    # need to find third occurence of a space and slice the string after it\n",
    "    # using a very non robust silly solution\n",
    "    s = example['text']\n",
    "    example['text'] = s[s.find(' ', s.find(' ', s.find(' ')+1)+1)+1:]\n",
    "    return example\n",
    "\n",
    "cleaned_dataset = hdfs1_dataset.map(remove_timestamp)"
   ]
  },
  {
   "cell_type": "code",
   "execution_count": 4,
   "id": "defensive-penny",
   "metadata": {},
   "outputs": [],
   "source": [
    "pretrained_model_name = \"distilbert-base-cased\"\n",
    "tokenizer = DistilBertTokenizerFast.from_pretrained(pretrained_model_name)"
   ]
  },
  {
   "cell_type": "code",
   "execution_count": 5,
   "id": "intellectual-unemployment",
   "metadata": {},
   "outputs": [],
   "source": [
    "small_cleaned_dataset = cleaned_dataset.select(range(20000))"
   ]
  },
  {
   "cell_type": "code",
   "execution_count": 6,
   "id": "loaded-reflection",
   "metadata": {},
   "outputs": [],
   "source": [
    "def tokenize_dontpad_dataset(examples, tokenizer):\n",
    "    return tokenizer(examples['text'], truncation=True, return_special_tokens_mask=True)\n",
    "# tokenized_unpadded_dataset = cleaned_dataset.map(tokenize_dontpad_dataset, fn_kwargs={'tokenizer': tokenizer}, batched=True, batch_size=1000, remove_columns=['text'])"
   ]
  },
  {
   "cell_type": "code",
   "execution_count": 7,
   "id": "committed-salon",
   "metadata": {},
   "outputs": [
    {
     "name": "stderr",
     "output_type": "stream",
     "text": [
      "Loading cached processed dataset at /home/cernypro/.cache/huggingface/datasets/text/default-3571b23bb2152210/0.0.0/44d63bd03e7e554f16131765a251f2d8333a5fe8a73f6ea3de012dbc49443691/cache-afd185a41044cef4.arrow\n"
     ]
    }
   ],
   "source": [
    "def tokenize_no_special_tokens(examples, tokenizer):\n",
    "    return {'tokens': tokenizer(examples['text'], add_special_tokens=False, truncation=True, return_attention_mask=False)['input_ids']}\n",
    "small_tokenized = small_cleaned_dataset.map(tokenize_no_special_tokens, fn_kwargs={'tokenizer': tokenizer}, batched=True, batch_size=1000)"
   ]
  },
  {
   "cell_type": "code",
   "execution_count": 8,
   "id": "honest-yacht",
   "metadata": {},
   "outputs": [
    {
     "name": "stderr",
     "output_type": "stream",
     "text": [
      "Loading cached processed dataset at /home/cernypro/.cache/huggingface/datasets/text/default-3571b23bb2152210/0.0.0/44d63bd03e7e554f16131765a251f2d8333a5fe8a73f6ea3de012dbc49443691/cache-62ba6d1c76d79bf8.arrow\n"
     ]
    }
   ],
   "source": [
    "def chunkify(examples):\n",
    "    return {\"chunk\": [examples['tokens']]}\n",
    "chunked = small_tokenized.map(chunkify, batched=True, batch_size=10, drop_last_batch=True, remove_columns=small_tokenized.column_names)"
   ]
  },
  {
   "cell_type": "code",
   "execution_count": 9,
   "id": "general-couple",
   "metadata": {},
   "outputs": [
    {
     "data": {
      "text/plain": [
       "Dataset({\n",
       "    features: ['chunk'],\n",
       "    num_rows: 2000\n",
       "})"
      ]
     },
     "execution_count": 9,
     "metadata": {},
     "output_type": "execute_result"
    }
   ],
   "source": [
    "chunked"
   ]
  },
  {
   "cell_type": "code",
   "execution_count": 10,
   "id": "cardiac-metabolism",
   "metadata": {},
   "outputs": [],
   "source": [
    "@dataclass\n",
    "class DataCollatorForInverseClozeTask:\n",
    "    remove_target_from_context_probability: float = 0.9\n",
    "    target_max_seq:int = 512\n",
    "    context_max_seq:int = 512\n",
    "    start_token:int = 101 # [CLS]\n",
    "    sep_token:int = 102 # [SEP]\n",
    "    pad_token:int = 0\n",
    "        \n",
    "    def _make_mask(self, padded_batch):\n",
    "        return (padded_batch != self.pad_token).astype(np.uint8)\n",
    "        \n",
    "    def _pad_truncate_add_special_tokens(self, batch: List[List[int]], max_len): \n",
    "        sequence_lengths = np.array([min(max_len-2, len(seq)) for seq in batch])\n",
    "        batch_max_len = sequence_lengths.max()\n",
    "        padded_batch = np.full(shape=(len(batch), batch_max_len+2), fill_value=self.pad_token, dtype=np.int64)\n",
    "        padded_batch[:, 0] = self.start_token\n",
    "        for seq_idx, seq in enumerate(batch):\n",
    "            padded_batch[seq_idx, 1:sequence_lengths[seq_idx]+1] = seq[:sequence_lengths[seq_idx]]\n",
    "            padded_batch[seq_idx, sequence_lengths[seq_idx]+1] = self.sep_token\n",
    "        mask = self._make_mask(padded_batch)\n",
    "        return torch.from_numpy(padded_batch), torch.from_numpy(mask)\n",
    "    \n",
    "    def _create_target_and_flat_contexts_from_contexts(self, contexts: List[List[List[int]]]):\n",
    "        # TODO: add sep_token between each sentence when flattening context?\n",
    "        target_sentence_idxs = [torch.randint(low=0, high=len(context), size=(1,)).item() for context in contexts]\n",
    "        remove_target = [torch.rand(size=(1,)).item() < self.remove_target_from_context_probability for _ in target_sentence_idxs]\n",
    "        target_sentences = [context[i] for (i, context) in zip(target_sentence_idxs, contexts)]\n",
    "        processed_contexts = [context[:target_idx] + context[target_idx + remove:] for (target_idx, remove, context) in zip(target_sentence_idxs, remove_target, contexts)]\n",
    "        flattened_contexts = [[token for sentence in context for token in sentence] for context in processed_contexts]\n",
    "        return target_sentences, flattened_contexts\n",
    "             \n",
    "    def __call__(self, contexts: List[Union[List[List[int]], Dict[str, List[List[int]]]]]):\n",
    "        if isinstance(contexts[0], dict):\n",
    "            contexts = [context_dict['chunk'] for context_dict in contexts]\n",
    "        target_sentences, flattened_contexts = self._create_target_and_flat_contexts_from_contexts(contexts)\n",
    "        correct_class = torch.tensor(list(range(len(target_sentences))), dtype=torch.int64)\n",
    "        padded_target_batch, padded_target_mask = self._pad_truncate_add_special_tokens(target_sentences, self.target_max_seq)\n",
    "        padded_context_batch, padded_context_mask = self._pad_truncate_add_special_tokens(flattened_contexts, self.context_max_seq)\n",
    "        return {'target': padded_target_batch,\n",
    "                'target_mask': padded_target_mask,\n",
    "                'context': padded_context_batch,\n",
    "                'context_mask': padded_context_mask,\n",
    "                'correct_class': correct_class}\n",
    "        \n",
    "    "
   ]
  },
  {
   "cell_type": "code",
   "execution_count": 11,
   "id": "complex-newark",
   "metadata": {},
   "outputs": [],
   "source": [
    "data_collator = DataCollatorForInverseClozeTask()"
   ]
  },
  {
   "cell_type": "code",
   "execution_count": 12,
   "id": "functioning-ownership",
   "metadata": {},
   "outputs": [],
   "source": [
    "class ClsEncoderTower(torch.nn.Module):\n",
    "    def __init__(self, pretrained_model_name_or_path, output_encode_dimension=512):\n",
    "        super(ClsEncoderTower, self).__init__()\n",
    "        self.bert = AutoModel.from_pretrained(pretrained_model_name_or_path)\n",
    "        self.linear = torch.nn.Linear(self.bert.config.dim, output_encode_dimension) # self.bert.config.dim most likely 768\n",
    "        \n",
    "    def forward(self, input_ids, attention_mask):\n",
    "        bert_output = self.bert(input_ids=input_ids, attention_mask=attention_mask)\n",
    "        cls_token_embedding = bert_output[0][:, 0]\n",
    "        cls_encoding = self.linear(cls_token_embedding)\n",
    "        return cls_encoding\n",
    "        \n",
    "    "
   ]
  },
  {
   "cell_type": "code",
   "execution_count": 13,
   "id": "promising-jamaica",
   "metadata": {},
   "outputs": [],
   "source": [
    "class OneTowerICT(torch.nn.Module):\n",
    "    def __init__(self, pretrained_model_name_or_path, output_encode_dimension=512):\n",
    "        super(OneTowerICT, self).__init__()\n",
    "        self.tower = ClsEncoderTower(pretrained_model_name_or_path, output_encode_dimension)\n",
    "        self.loss_fn = torch.nn.CrossEntropyLoss()\n",
    "    def forward(self, target, target_mask, context, context_mask, correct_class):\n",
    "        target_cls_encode = self.tower(input_ids=target, attention_mask=target_mask)\n",
    "        context_cls_encode = self.tower(input_ids=context, attention_mask= context_mask)\n",
    "        \n",
    "        logits = torch.matmul(target_cls_encode, context_cls_encode.transpose(-2, -1))\n",
    "        loss = self.loss_fn(logits, correct_class)\n",
    "        return loss, target_cls_encode, context_cls_encode"
   ]
  },
  {
   "cell_type": "code",
   "execution_count": 14,
   "id": "pointed-lending",
   "metadata": {},
   "outputs": [],
   "source": [
    "model = OneTowerICT(pretrained_model_name)\n",
    "device = torch.device(\"cuda:0\" if torch.cuda.is_available() else \"cpu\")\n",
    "model = model.to(device)"
   ]
  },
  {
   "cell_type": "code",
   "execution_count": 15,
   "id": "similar-preference",
   "metadata": {},
   "outputs": [
    {
     "name": "stderr",
     "output_type": "stream",
     "text": [
      "Loading cached split indices for dataset at /home/cernypro/.cache/huggingface/datasets/text/default-3571b23bb2152210/0.0.0/44d63bd03e7e554f16131765a251f2d8333a5fe8a73f6ea3de012dbc49443691/cache-2e0308b44bc66c7f.arrow and /home/cernypro/.cache/huggingface/datasets/text/default-3571b23bb2152210/0.0.0/44d63bd03e7e554f16131765a251f2d8333a5fe8a73f6ea3de012dbc49443691/cache-d67c8b32581567b1.arrow\n"
     ]
    }
   ],
   "source": [
    "SEED=0\n",
    "RUN_NAME=\"ICT DEBUG - MLM PRETRAINED 1\"\n",
    "train_test_dataset = chunked.train_test_split(test_size=256, shuffle=True, seed=SEED)"
   ]
  },
  {
   "cell_type": "code",
   "execution_count": 16,
   "id": "fabulous-victoria",
   "metadata": {},
   "outputs": [],
   "source": [
    "training_args = TrainingArguments(output_dir=f\"../models/{RUN_NAME.replace(' ', '_')}\",\n",
    "                                      num_train_epochs=5,\n",
    "                                      per_device_eval_batch_size=64, \n",
    "                                      per_device_train_batch_size=64,\n",
    "                                      warmup_steps=10,                # number of warmup steps for learning rate scheduler\n",
    "                                      weight_decay=0.01,               # strength of weight decay\n",
    "                                      logging_dir='./logs',            # directory for storing logs\n",
    "                                      logging_steps=10,\n",
    "                                      logging_first_step=True,\n",
    "                                      eval_steps=25,\n",
    "                                      evaluation_strategy='steps',\n",
    "                                      prediction_loss_only=True,\n",
    "                                      save_steps=100,\n",
    "                                      save_total_limit=15,\n",
    "                                      label_names=['target', 'context'],\n",
    "                                      seed=SEED,\n",
    "                                      run_name=RUN_NAME,\n",
    "                                      remove_unused_columns=False)\n",
    "\n",
    "trainer = Trainer(model=model,\n",
    "                      args=training_args,\n",
    "                      data_collator=data_collator,\n",
    "                      train_dataset=train_test_dataset['train'],\n",
    "                      eval_dataset=train_test_dataset['test']\n",
    "                      )"
   ]
  },
  {
   "cell_type": "code",
   "execution_count": 17,
   "id": "final-accountability",
   "metadata": {},
   "outputs": [
    {
     "data": {
      "text/plain": [
       "<torch._C.Generator at 0x7fbfbac39150>"
      ]
     },
     "execution_count": 17,
     "metadata": {},
     "output_type": "execute_result"
    }
   ],
   "source": [
    "torch.manual_seed(SEED)"
   ]
  },
  {
   "cell_type": "code",
   "execution_count": 18,
   "id": "bright-camcorder",
   "metadata": {},
   "outputs": [
    {
     "name": "stderr",
     "output_type": "stream",
     "text": [
      "\u001b[34m\u001b[1mwandb\u001b[0m: Currently logged in as: \u001b[33mprokopcerny\u001b[0m (use `wandb login --relogin` to force relogin)\n"
     ]
    },
    {
     "data": {
      "text/html": [
       "\n",
       "                Tracking run with wandb version 0.10.19<br/>\n",
       "                Syncing run <strong style=\"color:#cdcd00\">ICT DEBUG - MLM PRETRAINED 1</strong> to <a href=\"https://wandb.ai\" target=\"_blank\">Weights & Biases</a> <a href=\"https://docs.wandb.com/integrations/jupyter.html\" target=\"_blank\">(Documentation)</a>.<br/>\n",
       "                Project page: <a href=\"https://wandb.ai/prokopcerny/huggingface\" target=\"_blank\">https://wandb.ai/prokopcerny/huggingface</a><br/>\n",
       "                Run page: <a href=\"https://wandb.ai/prokopcerny/huggingface/runs/abf1vw2z\" target=\"_blank\">https://wandb.ai/prokopcerny/huggingface/runs/abf1vw2z</a><br/>\n",
       "                Run data is saved locally in <code>/home/cernypro/dev/source/huggingface_gpu/notebooks/wandb/run-20210303_142340-abf1vw2z</code><br/><br/>\n",
       "            "
      ],
      "text/plain": [
       "<IPython.core.display.HTML object>"
      ]
     },
     "metadata": {},
     "output_type": "display_data"
    },
    {
     "data": {
      "text/html": [
       "\n",
       "    <div>\n",
       "        <style>\n",
       "            /* Turns off some styling */\n",
       "            progress {\n",
       "                /* gets rid of default border in Firefox and Opera. */\n",
       "                border: none;\n",
       "                /* Needs to be in here for Safari polyfill so background images work as expected. */\n",
       "                background-size: auto;\n",
       "            }\n",
       "        </style>\n",
       "      \n",
       "      <progress value='140' max='140' style='width:300px; height:20px; vertical-align: middle;'></progress>\n",
       "      [140/140 02:45, Epoch 5/5]\n",
       "    </div>\n",
       "    <table border=\"1\" class=\"dataframe\">\n",
       "  <thead>\n",
       "    <tr style=\"text-align: left;\">\n",
       "      <th>Step</th>\n",
       "      <th>Training Loss</th>\n",
       "      <th>Validation Loss</th>\n",
       "      <th>Runtime</th>\n",
       "      <th>Samples Per Second</th>\n",
       "    </tr>\n",
       "  </thead>\n",
       "  <tbody>\n",
       "    <tr>\n",
       "      <td>25</td>\n",
       "      <td>3.424400</td>\n",
       "      <td>3.436630</td>\n",
       "      <td>1.443700</td>\n",
       "      <td>177.320000</td>\n",
       "    </tr>\n",
       "    <tr>\n",
       "      <td>50</td>\n",
       "      <td>3.350300</td>\n",
       "      <td>3.400179</td>\n",
       "      <td>1.461900</td>\n",
       "      <td>175.111000</td>\n",
       "    </tr>\n",
       "    <tr>\n",
       "      <td>75</td>\n",
       "      <td>3.333300</td>\n",
       "      <td>3.211480</td>\n",
       "      <td>1.469600</td>\n",
       "      <td>174.201000</td>\n",
       "    </tr>\n",
       "    <tr>\n",
       "      <td>100</td>\n",
       "      <td>3.205200</td>\n",
       "      <td>3.165011</td>\n",
       "      <td>1.478800</td>\n",
       "      <td>173.109000</td>\n",
       "    </tr>\n",
       "    <tr>\n",
       "      <td>125</td>\n",
       "      <td>2.952100</td>\n",
       "      <td>3.108902</td>\n",
       "      <td>1.463400</td>\n",
       "      <td>174.938000</td>\n",
       "    </tr>\n",
       "  </tbody>\n",
       "</table><p>"
      ],
      "text/plain": [
       "<IPython.core.display.HTML object>"
      ]
     },
     "metadata": {},
     "output_type": "display_data"
    },
    {
     "data": {
      "text/plain": [
       "TrainOutput(global_step=140, training_loss=3.249927490098136, metrics={'train_runtime': 176.4835, 'train_samples_per_second': 0.793, 'total_flos': 0, 'epoch': 5.0})"
      ]
     },
     "execution_count": 18,
     "metadata": {},
     "output_type": "execute_result"
    }
   ],
   "source": [
    "trainer.train()"
   ]
  },
  {
   "cell_type": "code",
   "execution_count": 19,
   "id": "responsible-princeton",
   "metadata": {},
   "outputs": [],
   "source": [
    "trainer.save_model()"
   ]
  },
  {
   "cell_type": "code",
   "execution_count": 34,
   "id": "hispanic-railway",
   "metadata": {},
   "outputs": [
    {
     "name": "stderr",
     "output_type": "stream",
     "text": [
      "\u001b[34m\u001b[1mwandb\u001b[0m: \u001b[33mWARNING\u001b[0m Step must only increase in log calls.  Step 0 < 246; dropping {'eval/loss': 4.083710193634033, 'eval/runtime': 7.9367, 'eval/samples_per_second': 193.783}.\n"
     ]
    },
    {
     "data": {
      "text/plain": [
       "{'eval_loss': 4.083710193634033,\n",
       " 'eval_runtime': 7.9367,\n",
       " 'eval_samples_per_second': 193.783}"
      ]
     },
     "execution_count": 34,
     "metadata": {},
     "output_type": "execute_result"
    }
   ],
   "source": [
    "trainer.evaluate(train_test_dataset['train'])"
   ]
  },
  {
   "cell_type": "code",
   "execution_count": 6,
   "id": "bound-spank",
   "metadata": {},
   "outputs": [
    {
     "name": "stderr",
     "output_type": "stream",
     "text": [
      "Loading cached processed dataset at /home/cernypro/.cache/huggingface/datasets/text/default-3571b23bb2152210/0.0.0/44d63bd03e7e554f16131765a251f2d8333a5fe8a73f6ea3de012dbc49443691/cache-5b3337e81c3dc2cb.arrow\n"
     ]
    }
   ],
   "source": [
    "def get_lenghts(example):\n",
    "    return {'length': len(example['input_ids'])}\n",
    "lenghts = tokenized_unpadded_dataset.map(get_lenghts, remove_columns=tokenized_unpadded_dataset.column_names)"
   ]
  },
  {
   "cell_type": "code",
   "execution_count": 15,
   "id": "interpreted-sweden",
   "metadata": {},
   "outputs": [
    {
     "data": {
      "text/plain": [
       "60.6453264509765"
      ]
     },
     "execution_count": 15,
     "metadata": {},
     "output_type": "execute_result"
    }
   ],
   "source": [
    "mean = np.mean(lenghts['length'])\n",
    "mean"
   ]
  },
  {
   "cell_type": "code",
   "execution_count": 8,
   "id": "close-executive",
   "metadata": {},
   "outputs": [
    {
     "data": {
      "text/plain": [
       "<AxesSubplot:ylabel='Density'>"
      ]
     },
     "execution_count": 8,
     "metadata": {},
     "output_type": "execute_result"
    },
    {
     "data": {
      "image/png": "[encoded data removed]",
      "text/plain": [
       "<Figure size 432x288 with 1 Axes>"
      ]
     },
     "metadata": {
      "needs_background": "light"
     },
     "output_type": "display_data"
    }
   ],
   "source": [
    "sns.kdeplot(lenghts['length'])"
   ]
  }
 ],
 "metadata": {
  "kernelspec": {
   "display_name": "Python 3",
   "language": "python",
   "name": "python3"
  },
  "language_info": {
   "codemirror_mode": {
    "name": "ipython",
    "version": 3
   },
   "file_extension": ".py",
   "mimetype": "text/x-python",
   "name": "python",
   "nbconvert_exporter": "python",
   "pygments_lexer": "ipython3",
   "version": "3.7.4"
  }
 },
 "nbformat": 4,
 "nbformat_minor": 5
}